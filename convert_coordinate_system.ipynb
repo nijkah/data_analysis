{
 "cells": [
  {
   "cell_type": "markdown",
   "metadata": {},
   "source": [
    "# Converting Coordinate System into another using pyproj"
   ]
  },
  {
   "cell_type": "code",
   "execution_count": 1,
   "metadata": {
    "collapsed": true
   },
   "outputs": [],
   "source": [
    "import pandas as pd\n",
    "import os\n",
    "from pyproj import Proj, transform"
   ]
  },
  {
   "cell_type": "code",
   "execution_count": 2,
   "metadata": {},
   "outputs": [
    {
     "name": "stdout",
     "output_type": "stream",
     "text": [
      "TB_O_SB_STATN.txt\n",
      "VCForPython27.msi\n",
      "building_2016_info.csv\n",
      "buildings_2015.csv\n",
      "buildings_2015.dbf\n",
      "buildings_2015s.csv\n",
      "buildings_2016.csv\n",
      "bus_stationlist_201402.txt\n",
      "bus_stationlist_201609.txt\n",
      "data\n",
      "developed_area.csv\n",
      "developed_area.dbf\n",
      "dropped_hospitals.csv\n",
      "hospitals.csv\n",
      "hospitals_complete.csv\n",
      "map1.html\n",
      "�ܺε�����.zip\n"
     ]
    }
   ],
   "source": [
    "os.getcwd()\n",
    "\n",
    "os.chdir(\"../../../workspace/\")\n",
    "\n",
    "for i in sorted(os.listdir('.')):\n",
    "    print(i)"
   ]
  },
  {
   "cell_type": "markdown",
   "metadata": {},
   "source": [
    "## Loading Hospitals File"
   ]
  },
  {
   "cell_type": "code",
   "execution_count": 3,
   "metadata": {
    "collapsed": true
   },
   "outputs": [],
   "source": [
    "hospitals = pd.read_csv(\"hospitals.csv\")"
   ]
  },
  {
   "cell_type": "code",
   "execution_count": 4,
   "metadata": {},
   "outputs": [
    {
     "data": {
      "text/html": [
       "<div>\n",
       "<table border=\"1\" class=\"dataframe\">\n",
       "  <thead>\n",
       "    <tr style=\"text-align: right;\">\n",
       "      <th></th>\n",
       "      <th>STDR_YM</th>\n",
       "      <th>VIATR_FCLTY_CD</th>\n",
       "      <th>VIATR_FCLTY_NM</th>\n",
       "      <th>ADRES_NM</th>\n",
       "      <th>TELNO</th>\n",
       "      <th>XCNTS_VALUE</th>\n",
       "      <th>YDNTS_VALUE</th>\n",
       "      <th>BLCK_CD</th>\n",
       "    </tr>\n",
       "  </thead>\n",
       "  <tbody>\n",
       "    <tr>\n",
       "      <th>0</th>\n",
       "      <td>201602</td>\n",
       "      <td>치과병원</td>\n",
       "      <td>한그루치과병원</td>\n",
       "      <td>서울특별시 마포구 마포대로 78 3층 301호(도화동, 자람빌딩)</td>\n",
       "      <td>02-716-2600</td>\n",
       "      <td>195566</td>\n",
       "      <td>449155</td>\n",
       "      <td>156463</td>\n",
       "    </tr>\n",
       "    <tr>\n",
       "      <th>1</th>\n",
       "      <td>201602</td>\n",
       "      <td>일반병원</td>\n",
       "      <td>정동병원</td>\n",
       "      <td>서울특별시 동작구 양녕로 283 (상도1동)</td>\n",
       "      <td>02-810-7900</td>\n",
       "      <td>195534</td>\n",
       "      <td>445054</td>\n",
       "      <td>21524</td>\n",
       "    </tr>\n",
       "    <tr>\n",
       "      <th>2</th>\n",
       "      <td>201602</td>\n",
       "      <td>상급종합병원</td>\n",
       "      <td>중앙대학교병원</td>\n",
       "      <td>서울특별시 동작구 흑석로 102 (흑석동)</td>\n",
       "      <td>1800-1114</td>\n",
       "      <td>196540</td>\n",
       "      <td>445289</td>\n",
       "      <td>23074</td>\n",
       "    </tr>\n",
       "    <tr>\n",
       "      <th>3</th>\n",
       "      <td>201602</td>\n",
       "      <td>요양병원</td>\n",
       "      <td>강남요양병원</td>\n",
       "      <td>서울특별시 서초구 서초중앙로 197 (반포동)</td>\n",
       "      <td>02-832-0151</td>\n",
       "      <td>201068</td>\n",
       "      <td>444436</td>\n",
       "      <td>24038</td>\n",
       "    </tr>\n",
       "    <tr>\n",
       "      <th>4</th>\n",
       "      <td>201602</td>\n",
       "      <td>상급종합병원</td>\n",
       "      <td>학교법인가톨릭학원가톨릭대학교서울성모병원</td>\n",
       "      <td>서울특별시 서초구 반포대로 222 (반포동)</td>\n",
       "      <td>02-1588-1511</td>\n",
       "      <td>200468</td>\n",
       "      <td>444478</td>\n",
       "      <td>20457</td>\n",
       "    </tr>\n",
       "    <tr>\n",
       "      <th>5</th>\n",
       "      <td>201602</td>\n",
       "      <td>일반병원</td>\n",
       "      <td>고도일병원</td>\n",
       "      <td>서울특별시 서초구 강남대로 505 지하4층~지하1층 2층~6층 (반포동)</td>\n",
       "      <td>02-1577-8907</td>\n",
       "      <td>202014</td>\n",
       "      <td>445284</td>\n",
       "      <td>20512</td>\n",
       "    </tr>\n",
       "    <tr>\n",
       "      <th>6</th>\n",
       "      <td>201602</td>\n",
       "      <td>치과병원</td>\n",
       "      <td>서울귀한이치과병원</td>\n",
       "      <td>서울특별시 서초구 잠원로 24 (반포동)</td>\n",
       "      <td>02-523-2875</td>\n",
       "      <td>200875</td>\n",
       "      <td>445287</td>\n",
       "      <td>23957</td>\n",
       "    </tr>\n",
       "    <tr>\n",
       "      <th>7</th>\n",
       "      <td>201602</td>\n",
       "      <td>일반병원</td>\n",
       "      <td>세바른병원</td>\n",
       "      <td>서울특별시 서초구 서초중앙로 47 (서초동)</td>\n",
       "      <td>02-1588-3094</td>\n",
       "      <td>201357</td>\n",
       "      <td>442945</td>\n",
       "      <td>23848</td>\n",
       "    </tr>\n",
       "    <tr>\n",
       "      <th>8</th>\n",
       "      <td>201602</td>\n",
       "      <td>일반병원</td>\n",
       "      <td>21세기병원</td>\n",
       "      <td>서울특별시 서초구 서초중앙로 39 (서초동)</td>\n",
       "      <td>02-3477-0880</td>\n",
       "      <td>201392</td>\n",
       "      <td>442872</td>\n",
       "      <td>343871</td>\n",
       "    </tr>\n",
       "    <tr>\n",
       "      <th>9</th>\n",
       "      <td>201602</td>\n",
       "      <td>치과병원</td>\n",
       "      <td>서울탑치과병원</td>\n",
       "      <td>서울특별시 서초구 서초중앙로 39 5층 (서초동)</td>\n",
       "      <td>02-588-2833</td>\n",
       "      <td>201392</td>\n",
       "      <td>442872</td>\n",
       "      <td>343871</td>\n",
       "    </tr>\n",
       "  </tbody>\n",
       "</table>\n",
       "</div>"
      ],
      "text/plain": [
       "   STDR_YM VIATR_FCLTY_CD         VIATR_FCLTY_NM  \\\n",
       "0   201602           치과병원                한그루치과병원   \n",
       "1   201602           일반병원                   정동병원   \n",
       "2   201602         상급종합병원                중앙대학교병원   \n",
       "3   201602           요양병원                 강남요양병원   \n",
       "4   201602         상급종합병원  학교법인가톨릭학원가톨릭대학교서울성모병원   \n",
       "5   201602           일반병원                  고도일병원   \n",
       "6   201602           치과병원              서울귀한이치과병원   \n",
       "7   201602           일반병원                  세바른병원   \n",
       "8   201602           일반병원                 21세기병원   \n",
       "9   201602           치과병원                서울탑치과병원   \n",
       "\n",
       "                                   ADRES_NM         TELNO  XCNTS_VALUE  \\\n",
       "0      서울특별시 마포구 마포대로 78 3층 301호(도화동, 자람빌딩)   02-716-2600       195566   \n",
       "1                  서울특별시 동작구 양녕로 283 (상도1동)   02-810-7900       195534   \n",
       "2                   서울특별시 동작구 흑석로 102 (흑석동)     1800-1114       196540   \n",
       "3                 서울특별시 서초구 서초중앙로 197 (반포동)   02-832-0151       201068   \n",
       "4                  서울특별시 서초구 반포대로 222 (반포동)  02-1588-1511       200468   \n",
       "5  서울특별시 서초구 강남대로 505 지하4층~지하1층 2층~6층 (반포동)  02-1577-8907       202014   \n",
       "6                    서울특별시 서초구 잠원로 24 (반포동)   02-523-2875       200875   \n",
       "7                  서울특별시 서초구 서초중앙로 47 (서초동)  02-1588-3094       201357   \n",
       "8                  서울특별시 서초구 서초중앙로 39 (서초동)  02-3477-0880       201392   \n",
       "9               서울특별시 서초구 서초중앙로 39 5층 (서초동)   02-588-2833       201392   \n",
       "\n",
       "   YDNTS_VALUE  BLCK_CD  \n",
       "0       449155   156463  \n",
       "1       445054    21524  \n",
       "2       445289    23074  \n",
       "3       444436    24038  \n",
       "4       444478    20457  \n",
       "5       445284    20512  \n",
       "6       445287    23957  \n",
       "7       442945    23848  \n",
       "8       442872   343871  \n",
       "9       442872   343871  "
      ]
     },
     "execution_count": 4,
     "metadata": {},
     "output_type": "execute_result"
    }
   ],
   "source": [
    "hospitals.head(10)"
   ]
  },
  {
   "cell_type": "markdown",
   "metadata": {},
   "source": [
    "## Setting coordinate system\n",
    "\n",
    "Original coordinate system was Korea 2000 / Central Belt (epsg:5181).\n",
    "\n",
    "I converted it into WGS84 which is the standard coordinate system."
   ]
  },
  {
   "cell_type": "code",
   "execution_count": 5,
   "metadata": {
    "collapsed": true
   },
   "outputs": [],
   "source": [
    "inProj = Proj(init='epsg:5181')\n",
    "outProj = Proj(init='epsg:4326')"
   ]
  },
  {
   "cell_type": "code",
   "execution_count": 6,
   "metadata": {},
   "outputs": [
    {
     "name": "stdout",
     "output_type": "stream",
     "text": [
      "(126.94982801955958, 37.54189387493605)\n"
     ]
    }
   ],
   "source": [
    " x2, y2 = transform(inProj, outProj, 195566, 449155)\n",
    "print(x2, y2)"
   ]
  },
  {
   "cell_type": "code",
   "execution_count": 7,
   "metadata": {
    "collapsed": true
   },
   "outputs": [],
   "source": [
    "def convertCoords(df):\n",
    "    x2, y2 = transform(inProj, outProj, df['XCNTS_VALUE'].tolist(), df['YDNTS_VALUE'].tolist())\n",
    "    return pd.DataFrame({'lon':x2, 'lat':y2})"
   ]
  },
  {
   "cell_type": "code",
   "execution_count": 8,
   "metadata": {
    "collapsed": true
   },
   "outputs": [],
   "source": [
    "new_hospitals = convertCoords(hospitals)"
   ]
  },
  {
   "cell_type": "code",
   "execution_count": 9,
   "metadata": {},
   "outputs": [
    {
     "data": {
      "text/html": [
       "<div>\n",
       "<table border=\"1\" class=\"dataframe\">\n",
       "  <thead>\n",
       "    <tr style=\"text-align: right;\">\n",
       "      <th></th>\n",
       "      <th>lat</th>\n",
       "      <th>lon</th>\n",
       "    </tr>\n",
       "  </thead>\n",
       "  <tbody>\n",
       "    <tr>\n",
       "      <th>0</th>\n",
       "      <td>37.541894</td>\n",
       "      <td>126.949828</td>\n",
       "    </tr>\n",
       "    <tr>\n",
       "      <th>1</th>\n",
       "      <td>37.504944</td>\n",
       "      <td>126.949491</td>\n",
       "    </tr>\n",
       "    <tr>\n",
       "      <th>2</th>\n",
       "      <td>37.507065</td>\n",
       "      <td>126.960867</td>\n",
       "    </tr>\n",
       "    <tr>\n",
       "      <th>3</th>\n",
       "      <td>37.499386</td>\n",
       "      <td>127.012078</td>\n",
       "    </tr>\n",
       "    <tr>\n",
       "      <th>4</th>\n",
       "      <td>37.499765</td>\n",
       "      <td>127.005293</td>\n",
       "    </tr>\n",
       "  </tbody>\n",
       "</table>\n",
       "</div>"
      ],
      "text/plain": [
       "         lat         lon\n",
       "0  37.541894  126.949828\n",
       "1  37.504944  126.949491\n",
       "2  37.507065  126.960867\n",
       "3  37.499386  127.012078\n",
       "4  37.499765  127.005293"
      ]
     },
     "execution_count": 9,
     "metadata": {},
     "output_type": "execute_result"
    }
   ],
   "source": [
    "new_hospitals.head()"
   ]
  },
  {
   "cell_type": "code",
   "execution_count": 16,
   "metadata": {
    "collapsed": true
   },
   "outputs": [],
   "source": [
    "hospitals[['lat','lon']] = new_hospitals"
   ]
  },
  {
   "cell_type": "code",
   "execution_count": 19,
   "metadata": {
    "scrolled": false
   },
   "outputs": [
    {
     "data": {
      "text/html": [
       "<div>\n",
       "<table border=\"1\" class=\"dataframe\">\n",
       "  <thead>\n",
       "    <tr style=\"text-align: right;\">\n",
       "      <th></th>\n",
       "      <th>STDR_YM</th>\n",
       "      <th>VIATR_FCLTY_CD</th>\n",
       "      <th>VIATR_FCLTY_NM</th>\n",
       "      <th>ADRES_NM</th>\n",
       "      <th>TELNO</th>\n",
       "      <th>XCNTS_VALUE</th>\n",
       "      <th>YDNTS_VALUE</th>\n",
       "      <th>BLCK_CD</th>\n",
       "      <th>lon</th>\n",
       "      <th>lat</th>\n",
       "    </tr>\n",
       "  </thead>\n",
       "  <tbody>\n",
       "    <tr>\n",
       "      <th>0</th>\n",
       "      <td>201602</td>\n",
       "      <td>치과병원</td>\n",
       "      <td>한그루치과병원</td>\n",
       "      <td>서울특별시 마포구 마포대로 78 3층 301호(도화동, 자람빌딩)</td>\n",
       "      <td>02-716-2600</td>\n",
       "      <td>195566</td>\n",
       "      <td>449155</td>\n",
       "      <td>156463</td>\n",
       "      <td>126.949828</td>\n",
       "      <td>37.541894</td>\n",
       "    </tr>\n",
       "    <tr>\n",
       "      <th>1</th>\n",
       "      <td>201602</td>\n",
       "      <td>일반병원</td>\n",
       "      <td>정동병원</td>\n",
       "      <td>서울특별시 동작구 양녕로 283 (상도1동)</td>\n",
       "      <td>02-810-7900</td>\n",
       "      <td>195534</td>\n",
       "      <td>445054</td>\n",
       "      <td>21524</td>\n",
       "      <td>126.949491</td>\n",
       "      <td>37.504944</td>\n",
       "    </tr>\n",
       "    <tr>\n",
       "      <th>2</th>\n",
       "      <td>201602</td>\n",
       "      <td>상급종합병원</td>\n",
       "      <td>중앙대학교병원</td>\n",
       "      <td>서울특별시 동작구 흑석로 102 (흑석동)</td>\n",
       "      <td>1800-1114</td>\n",
       "      <td>196540</td>\n",
       "      <td>445289</td>\n",
       "      <td>23074</td>\n",
       "      <td>126.960867</td>\n",
       "      <td>37.507065</td>\n",
       "    </tr>\n",
       "    <tr>\n",
       "      <th>3</th>\n",
       "      <td>201602</td>\n",
       "      <td>요양병원</td>\n",
       "      <td>강남요양병원</td>\n",
       "      <td>서울특별시 서초구 서초중앙로 197 (반포동)</td>\n",
       "      <td>02-832-0151</td>\n",
       "      <td>201068</td>\n",
       "      <td>444436</td>\n",
       "      <td>24038</td>\n",
       "      <td>127.012078</td>\n",
       "      <td>37.499386</td>\n",
       "    </tr>\n",
       "    <tr>\n",
       "      <th>4</th>\n",
       "      <td>201602</td>\n",
       "      <td>상급종합병원</td>\n",
       "      <td>학교법인가톨릭학원가톨릭대학교서울성모병원</td>\n",
       "      <td>서울특별시 서초구 반포대로 222 (반포동)</td>\n",
       "      <td>02-1588-1511</td>\n",
       "      <td>200468</td>\n",
       "      <td>444478</td>\n",
       "      <td>20457</td>\n",
       "      <td>127.005293</td>\n",
       "      <td>37.499765</td>\n",
       "    </tr>\n",
       "  </tbody>\n",
       "</table>\n",
       "</div>"
      ],
      "text/plain": [
       "   STDR_YM VIATR_FCLTY_CD         VIATR_FCLTY_NM  \\\n",
       "0   201602           치과병원                한그루치과병원   \n",
       "1   201602           일반병원                   정동병원   \n",
       "2   201602         상급종합병원                중앙대학교병원   \n",
       "3   201602           요양병원                 강남요양병원   \n",
       "4   201602         상급종합병원  학교법인가톨릭학원가톨릭대학교서울성모병원   \n",
       "\n",
       "                               ADRES_NM         TELNO  XCNTS_VALUE  \\\n",
       "0  서울특별시 마포구 마포대로 78 3층 301호(도화동, 자람빌딩)   02-716-2600       195566   \n",
       "1              서울특별시 동작구 양녕로 283 (상도1동)   02-810-7900       195534   \n",
       "2               서울특별시 동작구 흑석로 102 (흑석동)     1800-1114       196540   \n",
       "3             서울특별시 서초구 서초중앙로 197 (반포동)   02-832-0151       201068   \n",
       "4              서울특별시 서초구 반포대로 222 (반포동)  02-1588-1511       200468   \n",
       "\n",
       "   YDNTS_VALUE  BLCK_CD         lon        lat  \n",
       "0       449155   156463  126.949828  37.541894  \n",
       "1       445054    21524  126.949491  37.504944  \n",
       "2       445289    23074  126.960867  37.507065  \n",
       "3       444436    24038  127.012078  37.499386  \n",
       "4       444478    20457  127.005293  37.499765  "
      ]
     },
     "execution_count": 19,
     "metadata": {},
     "output_type": "execute_result"
    }
   ],
   "source": [
    "hospitals.head(5)"
   ]
  },
  {
   "cell_type": "code",
   "execution_count": 13,
   "metadata": {
    "collapsed": true
   },
   "outputs": [],
   "source": [
    "hospitals_drop = hospitals.drop('STDR_YM', axis=1)\n",
    "hospitals_drop = hospitals_drop.drop('TELNO', axis=1)\n",
    "hospitals_drop = hospitals_drop.drop('BLCK_CD', axis=1)"
   ]
  },
  {
   "cell_type": "code",
   "execution_count": 14,
   "metadata": {
    "collapsed": true
   },
   "outputs": [],
   "source": [
    "#hospitals_drop.to_csv(\"dropped_hospitals.csv\", index=False, encoding='utf-8')"
   ]
  },
  {
   "cell_type": "code",
   "execution_count": 15,
   "metadata": {
    "collapsed": true
   },
   "outputs": [],
   "source": [
    "#hospitals.to_csv('hospitals_complete.csv', index=False, encoding='utf-8')"
   ]
  },
  {
   "cell_type": "markdown",
   "metadata": {},
   "source": [
    "## Loading Developed Areas in Seoul File"
   ]
  },
  {
   "cell_type": "code",
   "execution_count": 20,
   "metadata": {},
   "outputs": [
    {
     "data": {
      "text/html": [
       "<div>\n",
       "<table border=\"1\" class=\"dataframe\">\n",
       "  <thead>\n",
       "    <tr style=\"text-align: right;\">\n",
       "      <th></th>\n",
       "      <th>TRD_ID,C,4</th>\n",
       "      <th>TRD_NM,C,40</th>\n",
       "      <th>XMIN,N,10,0</th>\n",
       "      <th>YMIN,N,10,0</th>\n",
       "      <th>XMAX,N,10,0</th>\n",
       "      <th>YMAX,N,10,0</th>\n",
       "      <th>X_AXIS,N,10,0</th>\n",
       "      <th>Y_AXIS,N,10,0</th>\n",
       "      <th>SHAPE_AREA,N,13,2</th>\n",
       "    </tr>\n",
       "  </thead>\n",
       "  <tbody>\n",
       "    <tr>\n",
       "      <th>0</th>\n",
       "      <td>1870</td>\n",
       "      <td>교대역_1</td>\n",
       "      <td>200689</td>\n",
       "      <td>443116</td>\n",
       "      <td>201281</td>\n",
       "      <td>443789</td>\n",
       "      <td>201024</td>\n",
       "      <td>443481</td>\n",
       "      <td>204810.22</td>\n",
       "    </tr>\n",
       "    <tr>\n",
       "      <th>1</th>\n",
       "      <td>1867</td>\n",
       "      <td>개봉동 현대아파트 인근</td>\n",
       "      <td>187102</td>\n",
       "      <td>443074</td>\n",
       "      <td>187356</td>\n",
       "      <td>443589</td>\n",
       "      <td>187244</td>\n",
       "      <td>443362</td>\n",
       "      <td>89582.30</td>\n",
       "    </tr>\n",
       "    <tr>\n",
       "      <th>2</th>\n",
       "      <td>1866</td>\n",
       "      <td>뱅뱅사거리</td>\n",
       "      <td>202481</td>\n",
       "      <td>443296</td>\n",
       "      <td>202784</td>\n",
       "      <td>443720</td>\n",
       "      <td>202632</td>\n",
       "      <td>443501</td>\n",
       "      <td>63679.73</td>\n",
       "    </tr>\n",
       "    <tr>\n",
       "      <th>3</th>\n",
       "      <td>2256</td>\n",
       "      <td>혜화역 대학로_3</td>\n",
       "      <td>199784</td>\n",
       "      <td>453550</td>\n",
       "      <td>200166</td>\n",
       "      <td>453976</td>\n",
       "      <td>200021</td>\n",
       "      <td>453707</td>\n",
       "      <td>74020.44</td>\n",
       "    </tr>\n",
       "    <tr>\n",
       "      <th>4</th>\n",
       "      <td>1875</td>\n",
       "      <td>서울 강남구 대치역_1</td>\n",
       "      <td>205295</td>\n",
       "      <td>443630</td>\n",
       "      <td>205622</td>\n",
       "      <td>443882</td>\n",
       "      <td>205461</td>\n",
       "      <td>443754</td>\n",
       "      <td>31627.42</td>\n",
       "    </tr>\n",
       "  </tbody>\n",
       "</table>\n",
       "</div>"
      ],
      "text/plain": [
       "   TRD_ID,C,4   TRD_NM,C,40  XMIN,N,10,0  YMIN,N,10,0  XMAX,N,10,0  \\\n",
       "0        1870         교대역_1       200689       443116       201281   \n",
       "1        1867  개봉동 현대아파트 인근       187102       443074       187356   \n",
       "2        1866         뱅뱅사거리       202481       443296       202784   \n",
       "3        2256     혜화역 대학로_3       199784       453550       200166   \n",
       "4        1875  서울 강남구 대치역_1       205295       443630       205622   \n",
       "\n",
       "   YMAX,N,10,0  X_AXIS,N,10,0  Y_AXIS,N,10,0  SHAPE_AREA,N,13,2  \n",
       "0       443789         201024         443481          204810.22  \n",
       "1       443589         187244         443362           89582.30  \n",
       "2       443720         202632         443501           63679.73  \n",
       "3       453976         200021         453707           74020.44  \n",
       "4       443882         205461         443754           31627.42  "
      ]
     },
     "execution_count": 20,
     "metadata": {},
     "output_type": "execute_result"
    }
   ],
   "source": [
    "developed_area = pd.read_csv('developed_area.csv', encoding='utf-8')\n",
    "developed_area.head(5)"
   ]
  },
  {
   "cell_type": "code",
   "execution_count": 21,
   "metadata": {
    "collapsed": true
   },
   "outputs": [],
   "source": [
    "def convertCoords(df):\n",
    "    x2, y2 = transform(inProj, outProj, df['X_AXIS,N,10,0'].tolist(), df['Y_AXIS,N,10,0'].tolist())\n",
    "    return pd.DataFrame({'lon':x2, 'lat':y2})"
   ]
  },
  {
   "cell_type": "code",
   "execution_count": 22,
   "metadata": {
    "collapsed": true
   },
   "outputs": [],
   "source": [
    "new_dev_area = convertCoords(developed_area)"
   ]
  },
  {
   "cell_type": "code",
   "execution_count": 23,
   "metadata": {},
   "outputs": [
    {
     "data": {
      "text/html": [
       "<div>\n",
       "<table border=\"1\" class=\"dataframe\">\n",
       "  <thead>\n",
       "    <tr style=\"text-align: right;\">\n",
       "      <th></th>\n",
       "      <th>lat</th>\n",
       "      <th>lon</th>\n",
       "    </tr>\n",
       "  </thead>\n",
       "  <tbody>\n",
       "    <tr>\n",
       "      <th>0</th>\n",
       "      <td>37.490781</td>\n",
       "      <td>127.011579</td>\n",
       "    </tr>\n",
       "    <tr>\n",
       "      <th>1</th>\n",
       "      <td>37.489621</td>\n",
       "      <td>126.855763</td>\n",
       "    </tr>\n",
       "    <tr>\n",
       "      <th>2</th>\n",
       "      <td>37.490958</td>\n",
       "      <td>127.029762</td>\n",
       "    </tr>\n",
       "    <tr>\n",
       "      <th>3</th>\n",
       "      <td>37.582918</td>\n",
       "      <td>127.000238</td>\n",
       "    </tr>\n",
       "    <tr>\n",
       "      <th>4</th>\n",
       "      <td>37.493225</td>\n",
       "      <td>127.061753</td>\n",
       "    </tr>\n",
       "  </tbody>\n",
       "</table>\n",
       "</div>"
      ],
      "text/plain": [
       "         lat         lon\n",
       "0  37.490781  127.011579\n",
       "1  37.489621  126.855763\n",
       "2  37.490958  127.029762\n",
       "3  37.582918  127.000238\n",
       "4  37.493225  127.061753"
      ]
     },
     "execution_count": 23,
     "metadata": {},
     "output_type": "execute_result"
    }
   ],
   "source": [
    "new_dev_area.head(5)"
   ]
  },
  {
   "cell_type": "code",
   "execution_count": 24,
   "metadata": {},
   "outputs": [
    {
     "data": {
      "text/html": [
       "<div>\n",
       "<table border=\"1\" class=\"dataframe\">\n",
       "  <thead>\n",
       "    <tr style=\"text-align: right;\">\n",
       "      <th></th>\n",
       "      <th>TRD_ID,C,4</th>\n",
       "      <th>TRD_NM,C,40</th>\n",
       "      <th>XMIN,N,10,0</th>\n",
       "      <th>YMIN,N,10,0</th>\n",
       "      <th>XMAX,N,10,0</th>\n",
       "      <th>YMAX,N,10,0</th>\n",
       "      <th>X_AXIS,N,10,0</th>\n",
       "      <th>Y_AXIS,N,10,0</th>\n",
       "      <th>SHAPE_AREA,N,13,2</th>\n",
       "      <th>lat</th>\n",
       "      <th>lon</th>\n",
       "    </tr>\n",
       "  </thead>\n",
       "  <tbody>\n",
       "    <tr>\n",
       "      <th>0</th>\n",
       "      <td>1870</td>\n",
       "      <td>교대역_1</td>\n",
       "      <td>200689</td>\n",
       "      <td>443116</td>\n",
       "      <td>201281</td>\n",
       "      <td>443789</td>\n",
       "      <td>201024</td>\n",
       "      <td>443481</td>\n",
       "      <td>204810.22</td>\n",
       "      <td>37.541894</td>\n",
       "      <td>126.949828</td>\n",
       "    </tr>\n",
       "    <tr>\n",
       "      <th>1</th>\n",
       "      <td>1867</td>\n",
       "      <td>개봉동 현대아파트 인근</td>\n",
       "      <td>187102</td>\n",
       "      <td>443074</td>\n",
       "      <td>187356</td>\n",
       "      <td>443589</td>\n",
       "      <td>187244</td>\n",
       "      <td>443362</td>\n",
       "      <td>89582.30</td>\n",
       "      <td>37.504944</td>\n",
       "      <td>126.949491</td>\n",
       "    </tr>\n",
       "    <tr>\n",
       "      <th>2</th>\n",
       "      <td>1866</td>\n",
       "      <td>뱅뱅사거리</td>\n",
       "      <td>202481</td>\n",
       "      <td>443296</td>\n",
       "      <td>202784</td>\n",
       "      <td>443720</td>\n",
       "      <td>202632</td>\n",
       "      <td>443501</td>\n",
       "      <td>63679.73</td>\n",
       "      <td>37.507065</td>\n",
       "      <td>126.960867</td>\n",
       "    </tr>\n",
       "    <tr>\n",
       "      <th>3</th>\n",
       "      <td>2256</td>\n",
       "      <td>혜화역 대학로_3</td>\n",
       "      <td>199784</td>\n",
       "      <td>453550</td>\n",
       "      <td>200166</td>\n",
       "      <td>453976</td>\n",
       "      <td>200021</td>\n",
       "      <td>453707</td>\n",
       "      <td>74020.44</td>\n",
       "      <td>37.499386</td>\n",
       "      <td>127.012078</td>\n",
       "    </tr>\n",
       "    <tr>\n",
       "      <th>4</th>\n",
       "      <td>1875</td>\n",
       "      <td>서울 강남구 대치역_1</td>\n",
       "      <td>205295</td>\n",
       "      <td>443630</td>\n",
       "      <td>205622</td>\n",
       "      <td>443882</td>\n",
       "      <td>205461</td>\n",
       "      <td>443754</td>\n",
       "      <td>31627.42</td>\n",
       "      <td>37.499765</td>\n",
       "      <td>127.005293</td>\n",
       "    </tr>\n",
       "  </tbody>\n",
       "</table>\n",
       "</div>"
      ],
      "text/plain": [
       "   TRD_ID,C,4   TRD_NM,C,40  XMIN,N,10,0  YMIN,N,10,0  XMAX,N,10,0  \\\n",
       "0        1870         교대역_1       200689       443116       201281   \n",
       "1        1867  개봉동 현대아파트 인근       187102       443074       187356   \n",
       "2        1866         뱅뱅사거리       202481       443296       202784   \n",
       "3        2256     혜화역 대학로_3       199784       453550       200166   \n",
       "4        1875  서울 강남구 대치역_1       205295       443630       205622   \n",
       "\n",
       "   YMAX,N,10,0  X_AXIS,N,10,0  Y_AXIS,N,10,0  SHAPE_AREA,N,13,2        lat  \\\n",
       "0       443789         201024         443481          204810.22  37.541894   \n",
       "1       443589         187244         443362           89582.30  37.504944   \n",
       "2       443720         202632         443501           63679.73  37.507065   \n",
       "3       453976         200021         453707           74020.44  37.499386   \n",
       "4       443882         205461         443754           31627.42  37.499765   \n",
       "\n",
       "          lon  \n",
       "0  126.949828  \n",
       "1  126.949491  \n",
       "2  126.960867  \n",
       "3  127.012078  \n",
       "4  127.005293  "
      ]
     },
     "execution_count": 24,
     "metadata": {},
     "output_type": "execute_result"
    }
   ],
   "source": [
    "developed_area[['lat','lon']] = new_hospitals\n",
    "developed_area.head(5)"
   ]
  },
  {
   "cell_type": "code",
   "execution_count": 26,
   "metadata": {},
   "outputs": [
    {
     "data": {
      "text/html": [
       "<div>\n",
       "<table border=\"1\" class=\"dataframe\">\n",
       "  <thead>\n",
       "    <tr style=\"text-align: right;\">\n",
       "      <th></th>\n",
       "      <th>TRD_NM,C,40</th>\n",
       "      <th>lat</th>\n",
       "      <th>lon</th>\n",
       "    </tr>\n",
       "  </thead>\n",
       "  <tbody>\n",
       "    <tr>\n",
       "      <th>0</th>\n",
       "      <td>교대역_1</td>\n",
       "      <td>37.541894</td>\n",
       "      <td>126.949828</td>\n",
       "    </tr>\n",
       "    <tr>\n",
       "      <th>1</th>\n",
       "      <td>개봉동 현대아파트 인근</td>\n",
       "      <td>37.504944</td>\n",
       "      <td>126.949491</td>\n",
       "    </tr>\n",
       "    <tr>\n",
       "      <th>2</th>\n",
       "      <td>뱅뱅사거리</td>\n",
       "      <td>37.507065</td>\n",
       "      <td>126.960867</td>\n",
       "    </tr>\n",
       "    <tr>\n",
       "      <th>3</th>\n",
       "      <td>혜화역 대학로_3</td>\n",
       "      <td>37.499386</td>\n",
       "      <td>127.012078</td>\n",
       "    </tr>\n",
       "    <tr>\n",
       "      <th>4</th>\n",
       "      <td>서울 강남구 대치역_1</td>\n",
       "      <td>37.499765</td>\n",
       "      <td>127.005293</td>\n",
       "    </tr>\n",
       "  </tbody>\n",
       "</table>\n",
       "</div>"
      ],
      "text/plain": [
       "    TRD_NM,C,40        lat         lon\n",
       "0         교대역_1  37.541894  126.949828\n",
       "1  개봉동 현대아파트 인근  37.504944  126.949491\n",
       "2         뱅뱅사거리  37.507065  126.960867\n",
       "3     혜화역 대학로_3  37.499386  127.012078\n",
       "4  서울 강남구 대치역_1  37.499765  127.005293"
      ]
     },
     "execution_count": 26,
     "metadata": {},
     "output_type": "execute_result"
    }
   ],
   "source": [
    "developed_area = developed_area[['TRD_NM,C,40', 'lat', 'lon']]\n",
    "developed_area.head(5)"
   ]
  },
  {
   "cell_type": "code",
   "execution_count": 27,
   "metadata": {
    "collapsed": true
   },
   "outputs": [],
   "source": [
    "developed_area.to_csv(\"dev_area.csv\", encoding='utf-8')"
   ]
  },
  {
   "cell_type": "markdown",
   "metadata": {},
   "source": [
    "## Loading Bus and Train Stations List File"
   ]
  },
  {
   "cell_type": "code",
   "execution_count": 34,
   "metadata": {
    "collapsed": true
   },
   "outputs": [],
   "source": [
    "bus = pd.read_csv('bus_stationlist_201609.txt', delimiter=\"|\", encoding='utf-8')\n",
    "train = pd.read_csv('TB_O_SB_STATN.txt', delimiter='|', encoding='utf-8')"
   ]
  },
  {
   "cell_type": "code",
   "execution_count": 43,
   "metadata": {},
   "outputs": [
    {
     "data": {
      "text/html": [
       "<div>\n",
       "<table border=\"1\" class=\"dataframe\">\n",
       "  <thead>\n",
       "    <tr style=\"text-align: right;\">\n",
       "      <th></th>\n",
       "      <th>GU_NM</th>\n",
       "      <th>GU_CD</th>\n",
       "      <th>SUB_STA_SN</th>\n",
       "      <th>KOR_SUB_NM</th>\n",
       "      <th>POINT_X</th>\n",
       "      <th>POINT_Y</th>\n",
       "    </tr>\n",
       "  </thead>\n",
       "  <tbody>\n",
       "    <tr>\n",
       "      <th>0</th>\n",
       "      <td>중랑구</td>\n",
       "      <td>11260</td>\n",
       "      <td>40</td>\n",
       "      <td>용마산역</td>\n",
       "      <td>207607</td>\n",
       "      <td>452624</td>\n",
       "    </tr>\n",
       "    <tr>\n",
       "      <th>1</th>\n",
       "      <td>강북구</td>\n",
       "      <td>11305</td>\n",
       "      <td>41</td>\n",
       "      <td>미아삼거리역</td>\n",
       "      <td>202663</td>\n",
       "      <td>457082</td>\n",
       "    </tr>\n",
       "    <tr>\n",
       "      <th>2</th>\n",
       "      <td>강북구</td>\n",
       "      <td>11305</td>\n",
       "      <td>42</td>\n",
       "      <td>수유역</td>\n",
       "      <td>202238</td>\n",
       "      <td>459793</td>\n",
       "    </tr>\n",
       "    <tr>\n",
       "      <th>3</th>\n",
       "      <td>강북구</td>\n",
       "      <td>11305</td>\n",
       "      <td>43</td>\n",
       "      <td>미아역</td>\n",
       "      <td>202304</td>\n",
       "      <td>458542</td>\n",
       "    </tr>\n",
       "    <tr>\n",
       "      <th>4</th>\n",
       "      <td>강동구</td>\n",
       "      <td>11740</td>\n",
       "      <td>44</td>\n",
       "      <td>상일동역</td>\n",
       "      <td>214745</td>\n",
       "      <td>450818</td>\n",
       "    </tr>\n",
       "  </tbody>\n",
       "</table>\n",
       "</div>"
      ],
      "text/plain": [
       "  GU_NM  GU_CD  SUB_STA_SN KOR_SUB_NM  POINT_X  POINT_Y\n",
       "0   중랑구  11260          40       용마산역   207607   452624\n",
       "1   강북구  11305          41     미아삼거리역   202663   457082\n",
       "2   강북구  11305          42        수유역   202238   459793\n",
       "3   강북구  11305          43        미아역   202304   458542\n",
       "4   강동구  11740          44       상일동역   214745   450818"
      ]
     },
     "execution_count": 43,
     "metadata": {},
     "output_type": "execute_result"
    }
   ],
   "source": [
    "train.head(5)"
   ]
  },
  {
   "cell_type": "code",
   "execution_count": 46,
   "metadata": {
    "collapsed": true
   },
   "outputs": [],
   "source": [
    "def convertCoords(df):\n",
    "    x2, y2 = transform(inProj, outProj, df['POINT_X'].tolist(), df['POINT_Y'].tolist())\n",
    "    return pd.DataFrame({'lon':x2, 'lat':y2})"
   ]
  },
  {
   "cell_type": "code",
   "execution_count": 50,
   "metadata": {
    "collapsed": true
   },
   "outputs": [],
   "source": [
    "new_train = convertCoords(train)\n",
    "train[['lat', 'lon']] = new_train"
   ]
  },
  {
   "cell_type": "code",
   "execution_count": 51,
   "metadata": {},
   "outputs": [
    {
     "data": {
      "text/html": [
       "<div>\n",
       "<table border=\"1\" class=\"dataframe\">\n",
       "  <thead>\n",
       "    <tr style=\"text-align: right;\">\n",
       "      <th></th>\n",
       "      <th>GU_NM</th>\n",
       "      <th>GU_CD</th>\n",
       "      <th>SUB_STA_SN</th>\n",
       "      <th>KOR_SUB_NM</th>\n",
       "      <th>POINT_X</th>\n",
       "      <th>POINT_Y</th>\n",
       "      <th>lat</th>\n",
       "      <th>lon</th>\n",
       "    </tr>\n",
       "  </thead>\n",
       "  <tbody>\n",
       "    <tr>\n",
       "      <th>0</th>\n",
       "      <td>중랑구</td>\n",
       "      <td>11260</td>\n",
       "      <td>40</td>\n",
       "      <td>용마산역</td>\n",
       "      <td>207607</td>\n",
       "      <td>452624</td>\n",
       "      <td>37.573129</td>\n",
       "      <td>127.086111</td>\n",
       "    </tr>\n",
       "    <tr>\n",
       "      <th>1</th>\n",
       "      <td>강북구</td>\n",
       "      <td>11305</td>\n",
       "      <td>41</td>\n",
       "      <td>미아삼거리역</td>\n",
       "      <td>202663</td>\n",
       "      <td>457082</td>\n",
       "      <td>37.613322</td>\n",
       "      <td>127.030161</td>\n",
       "    </tr>\n",
       "    <tr>\n",
       "      <th>2</th>\n",
       "      <td>강북구</td>\n",
       "      <td>11305</td>\n",
       "      <td>42</td>\n",
       "      <td>수유역</td>\n",
       "      <td>202238</td>\n",
       "      <td>459793</td>\n",
       "      <td>37.637749</td>\n",
       "      <td>127.025356</td>\n",
       "    </tr>\n",
       "    <tr>\n",
       "      <th>3</th>\n",
       "      <td>강북구</td>\n",
       "      <td>11305</td>\n",
       "      <td>43</td>\n",
       "      <td>미아역</td>\n",
       "      <td>202304</td>\n",
       "      <td>458542</td>\n",
       "      <td>37.626478</td>\n",
       "      <td>127.026100</td>\n",
       "    </tr>\n",
       "    <tr>\n",
       "      <th>4</th>\n",
       "      <td>강동구</td>\n",
       "      <td>11740</td>\n",
       "      <td>44</td>\n",
       "      <td>상일동역</td>\n",
       "      <td>214745</td>\n",
       "      <td>450818</td>\n",
       "      <td>37.556770</td>\n",
       "      <td>127.166877</td>\n",
       "    </tr>\n",
       "  </tbody>\n",
       "</table>\n",
       "</div>"
      ],
      "text/plain": [
       "  GU_NM  GU_CD  SUB_STA_SN KOR_SUB_NM  POINT_X  POINT_Y        lat         lon\n",
       "0   중랑구  11260          40       용마산역   207607   452624  37.573129  127.086111\n",
       "1   강북구  11305          41     미아삼거리역   202663   457082  37.613322  127.030161\n",
       "2   강북구  11305          42        수유역   202238   459793  37.637749  127.025356\n",
       "3   강북구  11305          43        미아역   202304   458542  37.626478  127.026100\n",
       "4   강동구  11740          44       상일동역   214745   450818  37.556770  127.166877"
      ]
     },
     "execution_count": 51,
     "metadata": {},
     "output_type": "execute_result"
    }
   ],
   "source": [
    "train.head(5)"
   ]
  },
  {
   "cell_type": "code",
   "execution_count": 52,
   "metadata": {
    "collapsed": true
   },
   "outputs": [],
   "source": [
    "train.to_csv('train.csv', encoding='utf-8')"
   ]
  }
 ],
 "metadata": {
  "kernelspec": {
   "display_name": "Python [default]",
   "language": "python",
   "name": "python3"
  },
  "language_info": {
   "codemirror_mode": {
    "name": "ipython",
    "version": 3
   },
   "file_extension": ".py",
   "mimetype": "text/x-python",
   "name": "python",
   "nbconvert_exporter": "python",
   "pygments_lexer": "ipython3",
   "version": "3.5.4"
  }
 },
 "nbformat": 4,
 "nbformat_minor": 2
}
