{
 "cells": [
  {
   "cell_type": "markdown",
   "metadata": {},
   "source": [
    "# Getting Latitudes and Longitudes by using NAVER map API"
   ]
  },
  {
   "cell_type": "code",
   "execution_count": 1,
   "metadata": {
    "collapsed": true
   },
   "outputs": [],
   "source": [
    "import pandas as pd\n",
    "import urllib.request\n",
    "from bs4 import BeautifulSoup\n",
    "import os"
   ]
  },
  {
   "cell_type": "code",
   "execution_count": 55,
   "metadata": {},
   "outputs": [
    {
     "data": {
      "text/plain": [
       "'C:\\\\Users\\\\SW001\\\\Desktop\\\\My Study\\\\Data Science\\\\공모'"
      ]
     },
     "execution_count": 55,
     "metadata": {},
     "output_type": "execute_result"
    }
   ],
   "source": [
    "os.getcwd()"
   ]
  },
  {
   "cell_type": "code",
   "execution_count": 56,
   "metadata": {
    "collapsed": true
   },
   "outputs": [],
   "source": [
    "path = 'C:/Users/SW001/Desktop/My Study/Data Science/공모'\n",
    "os.chdir(path)"
   ]
  },
  {
   "cell_type": "code",
   "execution_count": 57,
   "metadata": {},
   "outputs": [
    {
     "name": "stdout",
     "output_type": "stream",
     "text": [
      "list_Medical.csv\n",
      "list_Medical.xlsx\n",
      "med_list.csv\n",
      "pharmacy_list.csv\n",
      "설명.txt\n",
      "외국어 가능 약국 현황(서울시 25개 자치구).xlsx\n",
      "외국어 가능 약국 현황.csv\n"
     ]
    }
   ],
   "source": [
    "for file in sorted(os.listdir()):\n",
    "    print(file)"
   ]
  },
  {
   "cell_type": "markdown",
   "metadata": {},
   "source": [
    "## Loading pharmacies able to receiving foreigner\n",
    "\n",
    "We want to get their latitudes, longitudes by using literal addresses."
   ]
  },
  {
   "cell_type": "code",
   "execution_count": 58,
   "metadata": {},
   "outputs": [
    {
     "data": {
      "text/plain": [
       "0                                     혜화로 2(혜화동)\n",
       "1                               종로 228, 1층(종로5가)\n",
       "2                                    종로 313(창신동)\n",
       "3                                    창신길 17(창신동)\n",
       "4                                    지봉로 50(숭인동)\n",
       "5                       청계천로 291,가동1층(창신동,동대문상가)\n",
       "6                               창경궁로 158,2층(원남동)\n",
       "7                             창경궁로 162,1,2층(원남동)\n",
       "8                                    종로 314(창신동)\n",
       "9                                   종로 222(종로5가)\n",
       "10                                  종로 192(종로4가)\n",
       "11                                   창신길 11(창신동)\n",
       "12                                 대학로9길 6(명륜4가)\n",
       "13                       종로 335-1,지하1층(창신동,명제빌딩)\n",
       "14                               대학로93-3,1층(연건동)\n",
       "15                                   종로 326(창신동)\n",
       "16                                  종로 203(종로5가)\n",
       "17                                새문안로 27,1층(평동)\n",
       "18                                  종로 205(종로5가)\n",
       "19                             사직로 130, 38호(적선동)\n",
       "20                                 대학로 117(명륜4가)\n",
       "21                              지봉로 61, 1층 (창신동)\n",
       "22                              창경궁로 271-1 (혜화동)\n",
       "23                              종로 407, 1층 (숭인동)\n",
       "24                                지봉로8길 54 (숭인동)\n",
       "25                                  자하문로 2 (적선동)\n",
       "26                                 종로 204 (종로4가)\n",
       "27                                 종로 194 (종로4가)\n",
       "28                              창경궁로 162-2 (원남동)\n",
       "29                             종로 266, D동 (종로6가)\n",
       "                         ...                    \n",
       "520                             송파구 가락로 175(송파동)\n",
       "521           송파구 올림픽로35가길 11, 110호(신천동, 한신잠실코아)\n",
       "522         송파구 올림픽로 435, A동 416호(신천동, 파크리오상가A동)\n",
       "523                            송파구 올림픽로 116(잠실동)\n",
       "524                              송파구 풍성로 55(풍납동)\n",
       "525              송파구 석촌호수로 61, 411호(잠실동, 트리지움상가)\n",
       "526                             송파구 강동대로 76(풍납동)\n",
       "527                            송파구 강동대로7길 4(풍납동)\n",
       "528                             송파구 강동대로 73(풍납동)\n",
       "529    송파구 올림픽로 435, A동 163, 164호(신천동, 파크리오상가A동)\n",
       "530                            송파구 강동대로7길 3(풍납동)\n",
       "531                             송파구 강동대로 61(풍납동)\n",
       "532                        강동구 올림픽로 746, 1층(천호동)\n",
       "533                          강동구 천호대로187길 53(길동)\n",
       "534                            강동구 천호대로 997(천호동)\n",
       "535                            강동구 구천면로 287(천호동)\n",
       "536                     강동구 천호대로 1006, 306호(천호동)\n",
       "537                           강동구 양재대로 1655(명일동)\n",
       "538                           강동구 양재대로 1325(성내동)\n",
       "539                            강동구 올림픽로 686(천호동)\n",
       "540                           강동구 양재대로 1355(성내동)\n",
       "541                    강동구 고덕로 276, 지하(명일동, 이마트)\n",
       "542                           강동구 양재대로 1325(성내동)\n",
       "543                           강동구 천호대로 1027(천호동)\n",
       "544                          강동구 진황도로61길 42(둔촌동)\n",
       "545                             강동구 성안로 149(천호동)\n",
       "546                            강동구 양재대로 1478(길동)\n",
       "547                      강동구 천호대로 1107, 101호(길동)\n",
       "548                            강동구 고덕로83길 6(고덕동)\n",
       "549                           강동구 천호대로 1158(둔촌동)\n",
       "Name: 주소, dtype: object"
      ]
     },
     "execution_count": 58,
     "metadata": {},
     "output_type": "execute_result"
    }
   ],
   "source": [
    "file = pd.read_csv('외국어 가능 약국 현황.csv', encoding='utf-8')\n",
    "file['주소']"
   ]
  },
  {
   "cell_type": "code",
   "execution_count": 59,
   "metadata": {},
   "outputs": [
    {
     "data": {
      "text/plain": [
       "550"
      ]
     },
     "execution_count": 59,
     "metadata": {},
     "output_type": "execute_result"
    }
   ],
   "source": [
    "adr = file['주소']\n",
    "len(adr)"
   ]
  },
  {
   "cell_type": "markdown",
   "metadata": {},
   "source": [
    "Setting codes for using API."
   ]
  },
  {
   "cell_type": "code",
   "execution_count": 60,
   "metadata": {
    "collapsed": true
   },
   "outputs": [],
   "source": [
    "client_id = \"qtybXf5LBzMjWSG5vrTi\"\n",
    "client_secret = \"TSKtDffyvJ\"\n",
    "\n",
    "#변수 초기화\n",
    "x=[]\n",
    "y=[]\n",
    "add=[]"
   ]
  },
  {
   "cell_type": "markdown",
   "metadata": {},
   "source": [
    "### We will get latitudes and longitudes by using NAVER map API."
   ]
  },
  {
   "cell_type": "code",
   "execution_count": 61,
   "metadata": {
    "collapsed": true
   },
   "outputs": [],
   "source": [
    "for i in adr:\n",
    "    try:       \n",
    "        encText = urllib.parse.quote(i)\n",
    "        #url = \"https://openapi.naver.com/v1/map/geocode?query=\" + encText # json 결과\n",
    "        url = \"https://openapi.naver.com/v1/map/geocode.xml?query=\" + encText # xml 결과\n",
    "        request = urllib.request.Request(url)\n",
    "        request.add_header(\"X-Naver-Client-Id\",client_id)\n",
    "        request.add_header(\"X-Naver-Client-Secret\",client_secret)\n",
    "        response = urllib.request.urlopen(request)\n",
    "        rescode = response.getcode()\n",
    "        response_body = response.read().decode('utf-8')\n",
    "        #response.close()\n",
    "        response_body = BeautifulSoup(response_body, \"lxml\")\n",
    "        response_body\n",
    "\n",
    "        x1 = [float(xy.get_text()) for xy in response_body.find_all(\"x\")]\n",
    "        y1 = [float(xy.get_text()) for xy in response_body.find_all(\"y\")]\n",
    "\n",
    "        x.append(x1[0])\n",
    "        y.append(y1[0])\n",
    "        add.append(i)\n",
    "        \n",
    "    except:\n",
    "        x.append(0)\n",
    "        y.append(0)\n",
    "        add.append(i)\n",
    "\n",
    "addlatlong = pd.DataFrame({'ADDR':add, 'Latitude':y, 'Longtitude' : x})"
   ]
  },
  {
   "cell_type": "code",
   "execution_count": 62,
   "metadata": {},
   "outputs": [
    {
     "data": {
      "text/html": [
       "<div>\n",
       "<table border=\"1\" class=\"dataframe\">\n",
       "  <thead>\n",
       "    <tr style=\"text-align: right;\">\n",
       "      <th></th>\n",
       "      <th>ADDR</th>\n",
       "      <th>Latitude</th>\n",
       "      <th>Longtitude</th>\n",
       "    </tr>\n",
       "  </thead>\n",
       "  <tbody>\n",
       "    <tr>\n",
       "      <th>0</th>\n",
       "      <td>혜화로 2(혜화동)</td>\n",
       "      <td>37.586093</td>\n",
       "      <td>127.000895</td>\n",
       "    </tr>\n",
       "    <tr>\n",
       "      <th>1</th>\n",
       "      <td>종로 228, 1층(종로5가)</td>\n",
       "      <td>37.570719</td>\n",
       "      <td>127.003067</td>\n",
       "    </tr>\n",
       "    <tr>\n",
       "      <th>2</th>\n",
       "      <td>종로 313(창신동)</td>\n",
       "      <td>37.572351</td>\n",
       "      <td>127.012478</td>\n",
       "    </tr>\n",
       "    <tr>\n",
       "      <th>3</th>\n",
       "      <td>창신길 17(창신동)</td>\n",
       "      <td>37.572486</td>\n",
       "      <td>127.010635</td>\n",
       "    </tr>\n",
       "    <tr>\n",
       "      <th>4</th>\n",
       "      <td>지봉로 50(숭인동)</td>\n",
       "      <td>37.574522</td>\n",
       "      <td>127.015970</td>\n",
       "    </tr>\n",
       "  </tbody>\n",
       "</table>\n",
       "</div>"
      ],
      "text/plain": [
       "               ADDR   Latitude  Longtitude\n",
       "0        혜화로 2(혜화동)  37.586093  127.000895\n",
       "1  종로 228, 1층(종로5가)  37.570719  127.003067\n",
       "2       종로 313(창신동)  37.572351  127.012478\n",
       "3       창신길 17(창신동)  37.572486  127.010635\n",
       "4       지봉로 50(숭인동)  37.574522  127.015970"
      ]
     },
     "execution_count": 62,
     "metadata": {},
     "output_type": "execute_result"
    }
   ],
   "source": [
    "addlatlong.head(5)"
   ]
  },
  {
   "cell_type": "code",
   "execution_count": 63,
   "metadata": {
    "collapsed": true
   },
   "outputs": [],
   "source": [
    "filelatlong = addlatlong.rename(columns={'ADDR':'주소'})"
   ]
  },
  {
   "cell_type": "code",
   "execution_count": 64,
   "metadata": {
    "collapsed": true
   },
   "outputs": [],
   "source": [
    "file = file.merge(filelatlong)"
   ]
  },
  {
   "cell_type": "code",
   "execution_count": 65,
   "metadata": {
    "collapsed": true
   },
   "outputs": [],
   "source": [
    "file.to_csv(\"pharmacy_list.csv\", index=False, encoding='utf-8')"
   ]
  },
  {
   "cell_type": "markdown",
   "metadata": {},
   "source": [
    "## Loading Hospitals in Seoul\n",
    "We also want to get their latitudes, longitudes by using literal addresses."
   ]
  },
  {
   "cell_type": "code",
   "execution_count": 39,
   "metadata": {
    "collapsed": true
   },
   "outputs": [],
   "source": [
    "med = pd.read_csv('list_Medical.csv', encoding='utf-8')"
   ]
  },
  {
   "cell_type": "code",
   "execution_count": 40,
   "metadata": {},
   "outputs": [
    {
     "data": {
      "text/html": [
       "<div>\n",
       "<table border=\"1\" class=\"dataframe\">\n",
       "  <thead>\n",
       "    <tr style=\"text-align: right;\">\n",
       "      <th></th>\n",
       "      <th>﻿등록번호</th>\n",
       "      <th>상호</th>\n",
       "      <th>기관구분</th>\n",
       "      <th>지역</th>\n",
       "      <th>대표자</th>\n",
       "      <th>사업자등록번호</th>\n",
       "      <th>주소</th>\n",
       "      <th>타겟국가</th>\n",
       "    </tr>\n",
       "  </thead>\n",
       "  <tbody>\n",
       "    <tr>\n",
       "      <th>0</th>\n",
       "      <td>1</td>\n",
       "      <td>JK성형외과</td>\n",
       "      <td>의원</td>\n",
       "      <td>서울</td>\n",
       "      <td>주권</td>\n",
       "      <td>211-09-48679</td>\n",
       "      <td>서울특별시 강남구 논현로 835 (신사동, JK빌딩)</td>\n",
       "      <td>일본,중국,러시아,중동,베트남,</td>\n",
       "    </tr>\n",
       "    <tr>\n",
       "      <th>1</th>\n",
       "      <td>2</td>\n",
       "      <td>자생한방병원</td>\n",
       "      <td>한방병원</td>\n",
       "      <td>서울</td>\n",
       "      <td>신준식</td>\n",
       "      <td>211-90-11471</td>\n",
       "      <td>서울 강남구 강남대로 536 (논현동)</td>\n",
       "      <td>일본,러시아,몽골,</td>\n",
       "    </tr>\n",
       "    <tr>\n",
       "      <th>2</th>\n",
       "      <td>20</td>\n",
       "      <td>(사) 한국건강관리협회 서울특별시 서부지부</td>\n",
       "      <td>의원</td>\n",
       "      <td>서울</td>\n",
       "      <td>채종일</td>\n",
       "      <td>109-82-00415</td>\n",
       "      <td>서울특별시 강서구 화곡로 335(화곡동)</td>\n",
       "      <td>미국,일본,중국,러시아,</td>\n",
       "    </tr>\n",
       "    <tr>\n",
       "      <th>3</th>\n",
       "      <td>22</td>\n",
       "      <td>드림성형외과의원</td>\n",
       "      <td>의원</td>\n",
       "      <td>서울</td>\n",
       "      <td>박양수외 1명</td>\n",
       "      <td>211-09-45139</td>\n",
       "      <td>서울특별시 강남구 논현로 848, 6층(신사동)</td>\n",
       "      <td>미국,일본,중국,</td>\n",
       "    </tr>\n",
       "    <tr>\n",
       "      <th>4</th>\n",
       "      <td>25</td>\n",
       "      <td>정원성형외과의원</td>\n",
       "      <td>의원</td>\n",
       "      <td>서울</td>\n",
       "      <td>설철환 외 2명</td>\n",
       "      <td>211-09-47966</td>\n",
       "      <td>서울특별시 강남구 논현로 836(신사동, 삼신빌딩 1,2,3,4,5,6층)</td>\n",
       "      <td>일본,중국,러시아,몽골,베트남,</td>\n",
       "    </tr>\n",
       "  </tbody>\n",
       "</table>\n",
       "</div>"
      ],
      "text/plain": [
       "   ﻿등록번호                       상호  기관구분  지역       대표자       사업자등록번호  \\\n",
       "0      1                   JK성형외과    의원  서울        주권  211-09-48679   \n",
       "1      2                   자생한방병원  한방병원  서울       신준식  211-90-11471   \n",
       "2     20  (사) 한국건강관리협회 서울특별시 서부지부    의원  서울       채종일  109-82-00415   \n",
       "3     22                 드림성형외과의원    의원  서울   박양수외 1명  211-09-45139   \n",
       "4     25                 정원성형외과의원    의원  서울  설철환 외 2명  211-09-47966   \n",
       "\n",
       "                                          주소               타겟국가  \n",
       "0              서울특별시 강남구 논현로 835 (신사동, JK빌딩)  일본,중국,러시아,중동,베트남,  \n",
       "1                      서울 강남구 강남대로 536 (논현동)         일본,러시아,몽골,  \n",
       "2                     서울특별시 강서구 화곡로 335(화곡동)      미국,일본,중국,러시아,  \n",
       "3                 서울특별시 강남구 논현로 848, 6층(신사동)          미국,일본,중국,  \n",
       "4  서울특별시 강남구 논현로 836(신사동, 삼신빌딩 1,2,3,4,5,6층)  일본,중국,러시아,몽골,베트남,  "
      ]
     },
     "execution_count": 40,
     "metadata": {},
     "output_type": "execute_result"
    }
   ],
   "source": [
    "med.head(5)"
   ]
  },
  {
   "cell_type": "code",
   "execution_count": 41,
   "metadata": {
    "collapsed": true
   },
   "outputs": [],
   "source": [
    "med = med.drop('대표자', axis=1)\n",
    "med = med.drop('사업자등록번호', axis=1)\n",
    "med = med.drop('지역', axis=1)\n",
    "med = med.drop(med.columns[0], axis=1)"
   ]
  },
  {
   "cell_type": "code",
   "execution_count": 43,
   "metadata": {
    "scrolled": true
   },
   "outputs": [
    {
     "data": {
      "text/plain": [
       "986"
      ]
     },
     "execution_count": 43,
     "metadata": {},
     "output_type": "execute_result"
    }
   ],
   "source": [
    "adr = med['주소']\n",
    "len(adr)"
   ]
  },
  {
   "cell_type": "markdown",
   "metadata": {},
   "source": [
    "Setting codes for using API."
   ]
  },
  {
   "cell_type": "code",
   "execution_count": 47,
   "metadata": {
    "collapsed": true
   },
   "outputs": [],
   "source": [
    "client_id = \"qtybXf5LBzMjWSG5vrTi\"\n",
    "client_secret = \"TSKtDffyvJ\"\n",
    "\n",
    "#변수 초기화\n",
    "x=[]\n",
    "y=[]\n",
    "add=[]"
   ]
  },
  {
   "cell_type": "markdown",
   "metadata": {},
   "source": [
    "### Using NAVER map API."
   ]
  },
  {
   "cell_type": "code",
   "execution_count": 48,
   "metadata": {
    "collapsed": true
   },
   "outputs": [],
   "source": [
    "for i in adr:\n",
    "    try:       \n",
    "        encText = urllib.parse.quote(i)\n",
    "        #url = \"https://openapi.naver.com/v1/map/geocode?query=\" + encText # json 결과\n",
    "        url = \"https://openapi.naver.com/v1/map/geocode.xml?query=\" + encText # xml 결과\n",
    "        request = urllib.request.Request(url)\n",
    "        request.add_header(\"X-Naver-Client-Id\",client_id)\n",
    "        request.add_header(\"X-Naver-Client-Secret\",client_secret)\n",
    "        response = urllib.request.urlopen(request)\n",
    "        rescode = response.getcode()\n",
    "        response_body = response.read().decode('utf-8')\n",
    "        #response.close()\n",
    "        response_body = BeautifulSoup(response_body, \"lxml\")\n",
    "        response_body\n",
    "\n",
    "        x1 = [float(xy.get_text()) for xy in response_body.find_all(\"x\")]\n",
    "        y1 = [float(xy.get_text()) for xy in response_body.find_all(\"y\")]\n",
    "\n",
    "        x.append(x1[0])\n",
    "        y.append(y1[0])\n",
    "        add.append(i)\n",
    "        \n",
    "    except:\n",
    "        x.append(0)\n",
    "        y.append(0)\n",
    "        add.append(i)\n",
    "\n",
    "addlatlong = pd.DataFrame({'주소':add, 'Latitude':y, 'Longtitude' : x})"
   ]
  },
  {
   "cell_type": "code",
   "execution_count": 49,
   "metadata": {},
   "outputs": [
    {
     "data": {
      "text/html": [
       "<div>\n",
       "<table border=\"1\" class=\"dataframe\">\n",
       "  <thead>\n",
       "    <tr style=\"text-align: right;\">\n",
       "      <th></th>\n",
       "      <th>Latitude</th>\n",
       "      <th>Longtitude</th>\n",
       "      <th>주소</th>\n",
       "    </tr>\n",
       "  </thead>\n",
       "  <tbody>\n",
       "    <tr>\n",
       "      <th>0</th>\n",
       "      <td>37.523110</td>\n",
       "      <td>127.027985</td>\n",
       "      <td>서울특별시 강남구 논현로 835 (신사동, JK빌딩)</td>\n",
       "    </tr>\n",
       "    <tr>\n",
       "      <th>1</th>\n",
       "      <td>37.510005</td>\n",
       "      <td>127.022343</td>\n",
       "      <td>서울 강남구 강남대로 536 (논현동)</td>\n",
       "    </tr>\n",
       "    <tr>\n",
       "      <th>2</th>\n",
       "      <td>37.553847</td>\n",
       "      <td>126.850910</td>\n",
       "      <td>서울특별시 강서구 화곡로 335(화곡동)</td>\n",
       "    </tr>\n",
       "    <tr>\n",
       "      <th>3</th>\n",
       "      <td>37.524600</td>\n",
       "      <td>127.028880</td>\n",
       "      <td>서울특별시 강남구 논현로 848, 6층(신사동)</td>\n",
       "    </tr>\n",
       "    <tr>\n",
       "      <th>4</th>\n",
       "      <td>37.523083</td>\n",
       "      <td>127.028634</td>\n",
       "      <td>서울특별시 강남구 논현로 836(신사동, 삼신빌딩 1,2,3,4,5,6층)</td>\n",
       "    </tr>\n",
       "  </tbody>\n",
       "</table>\n",
       "</div>"
      ],
      "text/plain": [
       "    Latitude  Longtitude                                         주소\n",
       "0  37.523110  127.027985              서울특별시 강남구 논현로 835 (신사동, JK빌딩)\n",
       "1  37.510005  127.022343                      서울 강남구 강남대로 536 (논현동)\n",
       "2  37.553847  126.850910                     서울특별시 강서구 화곡로 335(화곡동)\n",
       "3  37.524600  127.028880                 서울특별시 강남구 논현로 848, 6층(신사동)\n",
       "4  37.523083  127.028634  서울특별시 강남구 논현로 836(신사동, 삼신빌딩 1,2,3,4,5,6층)"
      ]
     },
     "execution_count": 49,
     "metadata": {},
     "output_type": "execute_result"
    }
   ],
   "source": [
    "addlatlong.head(5)"
   ]
  },
  {
   "cell_type": "code",
   "execution_count": 50,
   "metadata": {},
   "outputs": [
    {
     "data": {
      "text/plain": [
       "986"
      ]
     },
     "execution_count": 50,
     "metadata": {},
     "output_type": "execute_result"
    }
   ],
   "source": [
    "len(addlatlong)"
   ]
  },
  {
   "cell_type": "code",
   "execution_count": 52,
   "metadata": {
    "collapsed": true
   },
   "outputs": [],
   "source": [
    "med = med.merge(addlatlong)"
   ]
  },
  {
   "cell_type": "code",
   "execution_count": 53,
   "metadata": {},
   "outputs": [
    {
     "data": {
      "text/html": [
       "<div>\n",
       "<table border=\"1\" class=\"dataframe\">\n",
       "  <thead>\n",
       "    <tr style=\"text-align: right;\">\n",
       "      <th></th>\n",
       "      <th>상호</th>\n",
       "      <th>기관구분</th>\n",
       "      <th>주소</th>\n",
       "      <th>타겟국가</th>\n",
       "      <th>Latitude</th>\n",
       "      <th>Longtitude</th>\n",
       "    </tr>\n",
       "  </thead>\n",
       "  <tbody>\n",
       "    <tr>\n",
       "      <th>0</th>\n",
       "      <td>JK성형외과</td>\n",
       "      <td>의원</td>\n",
       "      <td>서울특별시 강남구 논현로 835 (신사동, JK빌딩)</td>\n",
       "      <td>일본,중국,러시아,중동,베트남,</td>\n",
       "      <td>37.523110</td>\n",
       "      <td>127.027985</td>\n",
       "    </tr>\n",
       "    <tr>\n",
       "      <th>1</th>\n",
       "      <td>자생한방병원</td>\n",
       "      <td>한방병원</td>\n",
       "      <td>서울 강남구 강남대로 536 (논현동)</td>\n",
       "      <td>일본,러시아,몽골,</td>\n",
       "      <td>37.510005</td>\n",
       "      <td>127.022343</td>\n",
       "    </tr>\n",
       "    <tr>\n",
       "      <th>2</th>\n",
       "      <td>(사) 한국건강관리협회 서울특별시 서부지부</td>\n",
       "      <td>의원</td>\n",
       "      <td>서울특별시 강서구 화곡로 335(화곡동)</td>\n",
       "      <td>미국,일본,중국,러시아,</td>\n",
       "      <td>37.553847</td>\n",
       "      <td>126.850910</td>\n",
       "    </tr>\n",
       "    <tr>\n",
       "      <th>3</th>\n",
       "      <td>드림성형외과의원</td>\n",
       "      <td>의원</td>\n",
       "      <td>서울특별시 강남구 논현로 848, 6층(신사동)</td>\n",
       "      <td>미국,일본,중국,</td>\n",
       "      <td>37.524600</td>\n",
       "      <td>127.028880</td>\n",
       "    </tr>\n",
       "    <tr>\n",
       "      <th>4</th>\n",
       "      <td>정원성형외과의원</td>\n",
       "      <td>의원</td>\n",
       "      <td>서울특별시 강남구 논현로 836(신사동, 삼신빌딩 1,2,3,4,5,6층)</td>\n",
       "      <td>일본,중국,러시아,몽골,베트남,</td>\n",
       "      <td>37.523083</td>\n",
       "      <td>127.028634</td>\n",
       "    </tr>\n",
       "  </tbody>\n",
       "</table>\n",
       "</div>"
      ],
      "text/plain": [
       "                        상호  기관구분                                         주소  \\\n",
       "0                   JK성형외과    의원              서울특별시 강남구 논현로 835 (신사동, JK빌딩)   \n",
       "1                   자생한방병원  한방병원                      서울 강남구 강남대로 536 (논현동)   \n",
       "2  (사) 한국건강관리협회 서울특별시 서부지부    의원                     서울특별시 강서구 화곡로 335(화곡동)   \n",
       "3                 드림성형외과의원    의원                 서울특별시 강남구 논현로 848, 6층(신사동)   \n",
       "4                 정원성형외과의원    의원  서울특별시 강남구 논현로 836(신사동, 삼신빌딩 1,2,3,4,5,6층)   \n",
       "\n",
       "                타겟국가   Latitude  Longtitude  \n",
       "0  일본,중국,러시아,중동,베트남,  37.523110  127.027985  \n",
       "1         일본,러시아,몽골,  37.510005  127.022343  \n",
       "2      미국,일본,중국,러시아,  37.553847  126.850910  \n",
       "3          미국,일본,중국,  37.524600  127.028880  \n",
       "4  일본,중국,러시아,몽골,베트남,  37.523083  127.028634  "
      ]
     },
     "execution_count": 53,
     "metadata": {},
     "output_type": "execute_result"
    }
   ],
   "source": [
    "med.head(5)"
   ]
  },
  {
   "cell_type": "code",
   "execution_count": 67,
   "metadata": {
    "collapsed": true
   },
   "outputs": [],
   "source": [
    "med.to_csv('med_list.csv', index=False, encoding='utf-8')"
   ]
  }
 ],
 "metadata": {
  "anaconda-cloud": {},
  "kernelspec": {
   "display_name": "Python [conda root]",
   "language": "python",
   "name": "conda-root-py"
  },
  "language_info": {
   "codemirror_mode": {
    "name": "ipython",
    "version": 3
   },
   "file_extension": ".py",
   "mimetype": "text/x-python",
   "name": "python",
   "nbconvert_exporter": "python",
   "pygments_lexer": "ipython3",
   "version": "3.5.4"
  }
 },
 "nbformat": 4,
 "nbformat_minor": 1
}
