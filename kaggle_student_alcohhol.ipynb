{
 "cells": [
  {
   "cell_type": "code",
   "execution_count": 1,
   "metadata": {
    "collapsed": true
   },
   "outputs": [],
   "source": [
    "import pandas as pd\n",
    "import numpy as np\n",
    "import matplotlib.pyplot as plt"
   ]
  },
  {
   "cell_type": "code",
   "execution_count": 2,
   "metadata": {},
   "outputs": [
    {
     "data": {
      "text/html": [
       "<div>\n",
       "<table border=\"1\" class=\"dataframe\">\n",
       "  <thead>\n",
       "    <tr style=\"text-align: right;\">\n",
       "      <th></th>\n",
       "      <th>school</th>\n",
       "      <th>sex</th>\n",
       "      <th>age</th>\n",
       "      <th>address</th>\n",
       "      <th>famsize</th>\n",
       "      <th>Pstatus</th>\n",
       "      <th>Medu</th>\n",
       "      <th>Fedu</th>\n",
       "      <th>Mjob</th>\n",
       "      <th>Fjob</th>\n",
       "      <th>...</th>\n",
       "      <th>famrel</th>\n",
       "      <th>freetime</th>\n",
       "      <th>goout</th>\n",
       "      <th>Dalc</th>\n",
       "      <th>Walc</th>\n",
       "      <th>health</th>\n",
       "      <th>absences</th>\n",
       "      <th>G1</th>\n",
       "      <th>G2</th>\n",
       "      <th>G3</th>\n",
       "    </tr>\n",
       "  </thead>\n",
       "  <tbody>\n",
       "    <tr>\n",
       "      <th>0</th>\n",
       "      <td>GP</td>\n",
       "      <td>F</td>\n",
       "      <td>18</td>\n",
       "      <td>U</td>\n",
       "      <td>GT3</td>\n",
       "      <td>A</td>\n",
       "      <td>4</td>\n",
       "      <td>4</td>\n",
       "      <td>at_home</td>\n",
       "      <td>teacher</td>\n",
       "      <td>...</td>\n",
       "      <td>4</td>\n",
       "      <td>3</td>\n",
       "      <td>4</td>\n",
       "      <td>1</td>\n",
       "      <td>1</td>\n",
       "      <td>3</td>\n",
       "      <td>6</td>\n",
       "      <td>5</td>\n",
       "      <td>6</td>\n",
       "      <td>6</td>\n",
       "    </tr>\n",
       "    <tr>\n",
       "      <th>1</th>\n",
       "      <td>GP</td>\n",
       "      <td>F</td>\n",
       "      <td>17</td>\n",
       "      <td>U</td>\n",
       "      <td>GT3</td>\n",
       "      <td>T</td>\n",
       "      <td>1</td>\n",
       "      <td>1</td>\n",
       "      <td>at_home</td>\n",
       "      <td>other</td>\n",
       "      <td>...</td>\n",
       "      <td>5</td>\n",
       "      <td>3</td>\n",
       "      <td>3</td>\n",
       "      <td>1</td>\n",
       "      <td>1</td>\n",
       "      <td>3</td>\n",
       "      <td>4</td>\n",
       "      <td>5</td>\n",
       "      <td>5</td>\n",
       "      <td>6</td>\n",
       "    </tr>\n",
       "    <tr>\n",
       "      <th>2</th>\n",
       "      <td>GP</td>\n",
       "      <td>F</td>\n",
       "      <td>15</td>\n",
       "      <td>U</td>\n",
       "      <td>LE3</td>\n",
       "      <td>T</td>\n",
       "      <td>1</td>\n",
       "      <td>1</td>\n",
       "      <td>at_home</td>\n",
       "      <td>other</td>\n",
       "      <td>...</td>\n",
       "      <td>4</td>\n",
       "      <td>3</td>\n",
       "      <td>2</td>\n",
       "      <td>2</td>\n",
       "      <td>3</td>\n",
       "      <td>3</td>\n",
       "      <td>10</td>\n",
       "      <td>7</td>\n",
       "      <td>8</td>\n",
       "      <td>10</td>\n",
       "    </tr>\n",
       "    <tr>\n",
       "      <th>3</th>\n",
       "      <td>GP</td>\n",
       "      <td>F</td>\n",
       "      <td>15</td>\n",
       "      <td>U</td>\n",
       "      <td>GT3</td>\n",
       "      <td>T</td>\n",
       "      <td>4</td>\n",
       "      <td>2</td>\n",
       "      <td>health</td>\n",
       "      <td>services</td>\n",
       "      <td>...</td>\n",
       "      <td>3</td>\n",
       "      <td>2</td>\n",
       "      <td>2</td>\n",
       "      <td>1</td>\n",
       "      <td>1</td>\n",
       "      <td>5</td>\n",
       "      <td>2</td>\n",
       "      <td>15</td>\n",
       "      <td>14</td>\n",
       "      <td>15</td>\n",
       "    </tr>\n",
       "    <tr>\n",
       "      <th>4</th>\n",
       "      <td>GP</td>\n",
       "      <td>F</td>\n",
       "      <td>16</td>\n",
       "      <td>U</td>\n",
       "      <td>GT3</td>\n",
       "      <td>T</td>\n",
       "      <td>3</td>\n",
       "      <td>3</td>\n",
       "      <td>other</td>\n",
       "      <td>other</td>\n",
       "      <td>...</td>\n",
       "      <td>4</td>\n",
       "      <td>3</td>\n",
       "      <td>2</td>\n",
       "      <td>1</td>\n",
       "      <td>2</td>\n",
       "      <td>5</td>\n",
       "      <td>4</td>\n",
       "      <td>6</td>\n",
       "      <td>10</td>\n",
       "      <td>10</td>\n",
       "    </tr>\n",
       "    <tr>\n",
       "      <th>5</th>\n",
       "      <td>GP</td>\n",
       "      <td>M</td>\n",
       "      <td>16</td>\n",
       "      <td>U</td>\n",
       "      <td>LE3</td>\n",
       "      <td>T</td>\n",
       "      <td>4</td>\n",
       "      <td>3</td>\n",
       "      <td>services</td>\n",
       "      <td>other</td>\n",
       "      <td>...</td>\n",
       "      <td>5</td>\n",
       "      <td>4</td>\n",
       "      <td>2</td>\n",
       "      <td>1</td>\n",
       "      <td>2</td>\n",
       "      <td>5</td>\n",
       "      <td>10</td>\n",
       "      <td>15</td>\n",
       "      <td>15</td>\n",
       "      <td>15</td>\n",
       "    </tr>\n",
       "    <tr>\n",
       "      <th>6</th>\n",
       "      <td>GP</td>\n",
       "      <td>M</td>\n",
       "      <td>16</td>\n",
       "      <td>U</td>\n",
       "      <td>LE3</td>\n",
       "      <td>T</td>\n",
       "      <td>2</td>\n",
       "      <td>2</td>\n",
       "      <td>other</td>\n",
       "      <td>other</td>\n",
       "      <td>...</td>\n",
       "      <td>4</td>\n",
       "      <td>4</td>\n",
       "      <td>4</td>\n",
       "      <td>1</td>\n",
       "      <td>1</td>\n",
       "      <td>3</td>\n",
       "      <td>0</td>\n",
       "      <td>12</td>\n",
       "      <td>12</td>\n",
       "      <td>11</td>\n",
       "    </tr>\n",
       "    <tr>\n",
       "      <th>7</th>\n",
       "      <td>GP</td>\n",
       "      <td>F</td>\n",
       "      <td>17</td>\n",
       "      <td>U</td>\n",
       "      <td>GT3</td>\n",
       "      <td>A</td>\n",
       "      <td>4</td>\n",
       "      <td>4</td>\n",
       "      <td>other</td>\n",
       "      <td>teacher</td>\n",
       "      <td>...</td>\n",
       "      <td>4</td>\n",
       "      <td>1</td>\n",
       "      <td>4</td>\n",
       "      <td>1</td>\n",
       "      <td>1</td>\n",
       "      <td>1</td>\n",
       "      <td>6</td>\n",
       "      <td>6</td>\n",
       "      <td>5</td>\n",
       "      <td>6</td>\n",
       "    </tr>\n",
       "    <tr>\n",
       "      <th>8</th>\n",
       "      <td>GP</td>\n",
       "      <td>M</td>\n",
       "      <td>15</td>\n",
       "      <td>U</td>\n",
       "      <td>LE3</td>\n",
       "      <td>A</td>\n",
       "      <td>3</td>\n",
       "      <td>2</td>\n",
       "      <td>services</td>\n",
       "      <td>other</td>\n",
       "      <td>...</td>\n",
       "      <td>4</td>\n",
       "      <td>2</td>\n",
       "      <td>2</td>\n",
       "      <td>1</td>\n",
       "      <td>1</td>\n",
       "      <td>1</td>\n",
       "      <td>0</td>\n",
       "      <td>16</td>\n",
       "      <td>18</td>\n",
       "      <td>19</td>\n",
       "    </tr>\n",
       "    <tr>\n",
       "      <th>9</th>\n",
       "      <td>GP</td>\n",
       "      <td>M</td>\n",
       "      <td>15</td>\n",
       "      <td>U</td>\n",
       "      <td>GT3</td>\n",
       "      <td>T</td>\n",
       "      <td>3</td>\n",
       "      <td>4</td>\n",
       "      <td>other</td>\n",
       "      <td>other</td>\n",
       "      <td>...</td>\n",
       "      <td>5</td>\n",
       "      <td>5</td>\n",
       "      <td>1</td>\n",
       "      <td>1</td>\n",
       "      <td>1</td>\n",
       "      <td>5</td>\n",
       "      <td>0</td>\n",
       "      <td>14</td>\n",
       "      <td>15</td>\n",
       "      <td>15</td>\n",
       "    </tr>\n",
       "  </tbody>\n",
       "</table>\n",
       "<p>10 rows × 33 columns</p>\n",
       "</div>"
      ],
      "text/plain": [
       "  school sex  age address famsize Pstatus  Medu  Fedu      Mjob      Fjob ...  \\\n",
       "0     GP   F   18       U     GT3       A     4     4   at_home   teacher ...   \n",
       "1     GP   F   17       U     GT3       T     1     1   at_home     other ...   \n",
       "2     GP   F   15       U     LE3       T     1     1   at_home     other ...   \n",
       "3     GP   F   15       U     GT3       T     4     2    health  services ...   \n",
       "4     GP   F   16       U     GT3       T     3     3     other     other ...   \n",
       "5     GP   M   16       U     LE3       T     4     3  services     other ...   \n",
       "6     GP   M   16       U     LE3       T     2     2     other     other ...   \n",
       "7     GP   F   17       U     GT3       A     4     4     other   teacher ...   \n",
       "8     GP   M   15       U     LE3       A     3     2  services     other ...   \n",
       "9     GP   M   15       U     GT3       T     3     4     other     other ...   \n",
       "\n",
       "  famrel freetime  goout  Dalc  Walc health absences  G1  G2  G3  \n",
       "0      4        3      4     1     1      3        6   5   6   6  \n",
       "1      5        3      3     1     1      3        4   5   5   6  \n",
       "2      4        3      2     2     3      3       10   7   8  10  \n",
       "3      3        2      2     1     1      5        2  15  14  15  \n",
       "4      4        3      2     1     2      5        4   6  10  10  \n",
       "5      5        4      2     1     2      5       10  15  15  15  \n",
       "6      4        4      4     1     1      3        0  12  12  11  \n",
       "7      4        1      4     1     1      1        6   6   5   6  \n",
       "8      4        2      2     1     1      1        0  16  18  19  \n",
       "9      5        5      1     1     1      5        0  14  15  15  \n",
       "\n",
       "[10 rows x 33 columns]"
      ]
     },
     "execution_count": 2,
     "metadata": {},
     "output_type": "execute_result"
    }
   ],
   "source": [
    "data = pd.read_csv('./data/student-mat.csv')\n",
    "data.head(10)"
   ]
  },
  {
   "cell_type": "code",
   "execution_count": 3,
   "metadata": {},
   "outputs": [
    {
     "data": {
      "text/plain": [
       "(395, 33)"
      ]
     },
     "execution_count": 3,
     "metadata": {},
     "output_type": "execute_result"
    }
   ],
   "source": [
    "data.shape"
   ]
  },
  {
   "cell_type": "code",
   "execution_count": 4,
   "metadata": {},
   "outputs": [
    {
     "data": {
      "text/plain": [
       "Index(['school', 'sex', 'age', 'address', 'famsize', 'Pstatus', 'Medu', 'Fedu',\n",
       "       'Mjob', 'Fjob', 'reason', 'guardian', 'traveltime', 'studytime',\n",
       "       'failures', 'schoolsup', 'famsup', 'paid', 'activities', 'nursery',\n",
       "       'higher', 'internet', 'romantic', 'famrel', 'freetime', 'goout', 'Dalc',\n",
       "       'Walc', 'health', 'absences', 'G1', 'G2', 'G3'],\n",
       "      dtype='object')"
      ]
     },
     "execution_count": 4,
     "metadata": {},
     "output_type": "execute_result"
    }
   ],
   "source": [
    "data.columns"
   ]
  },
  {
   "cell_type": "code",
   "execution_count": 5,
   "metadata": {
    "collapsed": true
   },
   "outputs": [],
   "source": [
    "male = data[data['sex']=='M']\n",
    "female = data[data['sex']=='F']"
   ]
  },
  {
   "cell_type": "code",
   "execution_count": 6,
   "metadata": {},
   "outputs": [
    {
     "name": "stdout",
     "output_type": "stream",
     "text": [
      "average male daily alcohol consumption:  1.732620320855615\n",
      "average female daily alcohol consumption:  1.2548076923076923\n"
     ]
    }
   ],
   "source": [
    "print(\"average male daily alcohol consumption: \", male['Dalc'].sum() / male.shape[0])\n",
    "print(\"average female daily alcohol consumption: \", female['Dalc'].sum() / female.shape[0])"
   ]
  },
  {
   "cell_type": "code",
   "execution_count": 7,
   "metadata": {},
   "outputs": [
    {
     "name": "stdout",
     "output_type": "stream",
     "text": [
      "average male week alcohol consumption:  2.663101604278075\n",
      "average female week alcohol consumption:  1.9567307692307692\n"
     ]
    }
   ],
   "source": [
    "print(\"average male week alcohol consumption: \", male['Walc'].sum() / male.shape[0])\n",
    "print(\"average female week alcohol consumption: \", female['Walc'].sum() / female.shape[0])"
   ]
  },
  {
   "cell_type": "code",
   "execution_count": 8,
   "metadata": {},
   "outputs": [
    {
     "data": {
      "image/png": "[encoded data removed]",
      "text/plain": [
       "<matplotlib.figure.Figure at 0x2297f895c88>"
      ]
     },
     "metadata": {},
     "output_type": "display_data"
    }
   ],
   "source": [
    "dg1 = data.groupby(data['Dalc'])['G1'].mean()\n",
    "dg2 = data.groupby(data['Dalc'])['G2'].mean()\n",
    "dg3 = data.groupby(data['Dalc'])['G3'].mean()\n",
    "plt.figure()\n",
    "plt.bar([1,2,3,4,5], dg1, color='r', width=0.1, label='Grade1')\n",
    "plt.bar([1.1,2.1,3.1,4.1,5.1], dg2, width=0.1, color='g', label='Grade2')\n",
    "plt.bar([1.2,2.2,3.2,4.2,5.2], dg3, width=0.1, color='b', label='Grade3')\n",
    "plt.xlabel(\"Daily alcohol\")\n",
    "plt.ylabel(\"Grade\")\n",
    "plt.legend()\n",
    "plt.ylim((5,15))\n",
    "plt.show()"
   ]
  },
  {
   "cell_type": "code",
   "execution_count": 9,
   "metadata": {
    "collapsed": true
   },
   "outputs": [],
   "source": [
    "dg1 = data.groupby(data['G1'])['Dalc'].mean()\n",
    "dg2 = data.groupby(data['G2'])['Dalc'].mean()\n",
    "dg3 = data.groupby(data['G3'])['Dalc'].mean()\n",
    "for i in range(21):\n",
    "    if i not in dg1.index:\n",
    "        dg1[i]=0\n",
    "dg1=dg1.sort_index()\n",
    "\n",
    "for i in range(21):\n",
    "    if i not in dg2.index:\n",
    "        dg2[i]=0\n",
    "dg2=dg2.sort_index()\n",
    "\n",
    "for i in range(21):\n",
    "    if i not in dg3.index:\n",
    "        dg3[i]=0\n",
    "dg3=dg3.sort_index()"
   ]
  },
  {
   "cell_type": "code",
   "execution_count": 28,
   "metadata": {},
   "outputs": [
    {
     "data": {
      "image/png": "[encoded data removed]",
      "text/plain": [
       "<matplotlib.figure.Figure at 0x2297fe9c400>"
      ]
     },
     "metadata": {},
     "output_type": "display_data"
    }
   ],
   "source": [
    "\n",
    "plt.figure()\n",
    "plt.bar(list(range(0,21)), dg1, label='Grade1')\n",
    "plt.xlabel(\"Grade\")\n",
    "plt.ylabel(\"Daily Alcohol\")\n",
    "plt.legend()\n",
    "plt.show()"
   ]
  },
  {
   "cell_type": "code",
   "execution_count": 29,
   "metadata": {},
   "outputs": [
    {
     "data": {
      "image/png": "[encoded data removed]",
      "text/plain": [
       "<matplotlib.figure.Figure at 0x2297ff24240>"
      ]
     },
     "metadata": {},
     "output_type": "display_data"
    }
   ],
   "source": [
    "\n",
    "plt.figure()\n",
    "plt.bar(list(range(0,21)), dg2, label='Grade2')\n",
    "plt.xlabel(\"Grade\")\n",
    "plt.ylabel(\"Daily Alcohol\")\n",
    "plt.legend()\n",
    "plt.show()"
   ]
  },
  {
   "cell_type": "code",
   "execution_count": 30,
   "metadata": {},
   "outputs": [
    {
     "data": {
      "image/png": "[encoded data removed]",
      "text/plain": [
       "<matplotlib.figure.Figure at 0x2297f9a41d0>"
      ]
     },
     "metadata": {},
     "output_type": "display_data"
    }
   ],
   "source": [
    "\n",
    "plt.figure()\n",
    "plt.bar(list(range(0,21)), dg3, label='Grade3')\n",
    "plt.xlabel(\"Grade\")\n",
    "plt.ylabel(\"Daily Alcohol\")\n",
    "plt.legend()\n",
    "plt.show()"
   ]
  },
  {
   "cell_type": "code",
   "execution_count": 26,
   "metadata": {
    "scrolled": true
   },
   "outputs": [
    {
     "data": {
      "image/png": "[encoded data removed]",
      "text/plain": [
       "<matplotlib.figure.Figure at 0x2297fe2b470>"
      ]
     },
     "metadata": {},
     "output_type": "display_data"
    }
   ],
   "source": [
    "\n",
    "plt.figure()\n",
    "plt.bar(list(x for x in range(0,21)), dg1, color='r', width=0.2, label='Grade1')\n",
    "plt.bar(list((x+0.4) for x in range(0,21)), dg2, width=0.2, color='g', label='Grade2')\n",
    "plt.bar(list((x+0.6) for x in range(0,21)), dg3, width=0.2, color='b', label='Grade3')\n",
    "plt.xlabel(\"Grade\")\n",
    "plt.ylabel(\"Daily Alcohol\")\n",
    "plt.legend()\n",
    "plt.show()"
   ]
  },
  {
   "cell_type": "code",
   "execution_count": null,
   "metadata": {
    "collapsed": true
   },
   "outputs": [],
   "source": []
  },
  {
   "cell_type": "code",
   "execution_count": 11,
   "metadata": {},
   "outputs": [
    {
     "data": {
      "image/png": "[encoded data removed]",
      "text/plain": [
       "<matplotlib.figure.Figure at 0x2297fafed68>"
      ]
     },
     "metadata": {},
     "output_type": "display_data"
    }
   ],
   "source": [
    "wg1 = data.groupby(data['Walc'])['G1'].mean()\n",
    "wg2 = data.groupby(data['Walc'])['G2'].mean()\n",
    "wg3 = data.groupby(data['Walc'])['G3'].mean()\n",
    "plt.figure()\n",
    "plt.bar([1,2,3,4,5], wg1, color='r', width=0.1, label='Grade1')\n",
    "plt.bar([1.1,2.1,3.1,4.1,5.1], wg2, width=0.1, color='g', label='Grade2')\n",
    "plt.bar([1.2,2.2,3.2,4.2,5.2], wg3, width=0.1, color='b', label='Grade3')\n",
    "plt.xlabel(\"Week alcohol\")\n",
    "plt.ylabel(\"Grade\")\n",
    "plt.legend()\n",
    "plt.ylim((5,15))\n",
    "plt.show()"
   ]
  },
  {
   "cell_type": "markdown",
   "metadata": {},
   "source": [
    "# Grade Difference between sex"
   ]
  },
  {
   "cell_type": "code",
   "execution_count": 12,
   "metadata": {},
   "outputs": [
    {
     "name": "stdout",
     "output_type": "stream",
     "text": [
      "sex\n",
      "F    10.620192\n",
      "M    11.229947\n",
      "Name: G1, dtype: float64\n",
      "sex\n",
      "F    10.389423\n",
      "M    11.074866\n",
      "Name: G2, dtype: float64\n",
      "sex\n",
      "F     9.966346\n",
      "M    10.914439\n",
      "Name: G3, dtype: float64\n"
     ]
    }
   ],
   "source": [
    "sex1 = data.groupby(data['sex'])['G1'].mean()\n",
    "sex2 = data.groupby(data['sex'])['G2'].mean()\n",
    "sex3 = data.groupby(data['sex'])['G3'].mean()\n",
    "print(sex1)\n",
    "print(sex2)\n",
    "print(sex3)"
   ]
  },
  {
   "cell_type": "code",
   "execution_count": 13,
   "metadata": {},
   "outputs": [
    {
     "data": {
      "text/plain": [
       "[15, 16, 17, 18, 19, 20, 21, 22]"
      ]
     },
     "execution_count": 13,
     "metadata": {},
     "output_type": "execute_result"
    }
   ],
   "source": [
    "ages = list(set(data['age']))\n",
    "ages"
   ]
  },
  {
   "cell_type": "code",
   "execution_count": 14,
   "metadata": {},
   "outputs": [
    {
     "name": "stdout",
     "output_type": "stream",
     "text": [
      "age\n",
      "15    11.231707\n",
      "16    10.942308\n",
      "17    10.897959\n",
      "18    10.719512\n",
      "19    10.250000\n",
      "20    13.666667\n",
      "21    10.000000\n",
      "22     6.000000\n",
      "Name: G1, dtype: float64\n",
      "age\n",
      "15    11.365854\n",
      "16    11.182692\n",
      "17    10.479592\n",
      "18    10.134146\n",
      "19     9.250000\n",
      "20    13.666667\n",
      "21     8.000000\n",
      "22     8.000000\n",
      "Name: G2, dtype: float64\n",
      "age\n",
      "15    11.256098\n",
      "16    11.028846\n",
      "17    10.275510\n",
      "18     9.548780\n",
      "19     8.208333\n",
      "20    14.000000\n",
      "21     7.000000\n",
      "22     8.000000\n",
      "Name: G3, dtype: float64\n"
     ]
    },
    {
     "data": {
      "image/png": "[encoded data removed]",
      "text/plain": [
       "<matplotlib.figure.Figure at 0x2297cbb5438>"
      ]
     },
     "metadata": {},
     "output_type": "display_data"
    }
   ],
   "source": [
    "age1 = data.groupby(data['age'])['G1'].mean()\n",
    "age2 = data.groupby(data['age'])['G2'].mean()\n",
    "age3 = data.groupby(data['age'])['G3'].mean()\n",
    "\n",
    "print(age1)\n",
    "print(age2)\n",
    "print(age3)\n",
    "plt.figure()\n",
    "plt.bar(list(map(lambda x: x,range(15, 23))), age1, color='r', width=0.1, label='Grade1')\n",
    "plt.bar(list(map(lambda x: x+0.1,range(15, 23))), age2, color='g', width=0.1, label='Grade2')\n",
    "plt.bar(list(map(lambda x: x+0.2,range(15, 23))), age3, color='b', width=0.1, label='Grade3')\n",
    "plt.xlabel(\"Age\")\n",
    "plt.ylabel(\"Grade\")\n",
    "plt.legend()\n",
    "plt.show()"
   ]
  },
  {
   "cell_type": "code",
   "execution_count": 15,
   "metadata": {},
   "outputs": [
    {
     "name": "stdout",
     "output_type": "stream",
     "text": [
      "Pedu\n",
      "1    10.000000\n",
      "2     9.538462\n",
      "3    10.232558\n",
      "4    10.416667\n",
      "5    10.808511\n",
      "6    11.125000\n",
      "7    11.637931\n",
      "8    11.885714\n",
      "Name: G1, dtype: float64\n",
      "Pedu\n",
      "1    11.500000\n",
      "2     9.051282\n",
      "3     9.581395\n",
      "4    10.472222\n",
      "5    10.638298\n",
      "6    11.187500\n",
      "7    11.155172\n",
      "8    11.814286\n",
      "Name: G2, dtype: float64\n",
      "Pedu\n",
      "1    12.500000\n",
      "2     8.641026\n",
      "3     9.255814\n",
      "4     9.597222\n",
      "5    10.404255\n",
      "6    11.296875\n",
      "7    10.948276\n",
      "8    11.657143\n",
      "Name: G3, dtype: float64\n"
     ]
    }
   ],
   "source": [
    "data['Pedu'] = data['Medu'] + data['Fedu']\n",
    "pedug1 = data.groupby(data['Pedu'])['G1'].mean()\n",
    "pedug2 = data.groupby(data['Pedu'])['G2'].mean()\n",
    "pedug3 = data.groupby(data['Pedu'])['G3'].mean()\n",
    "print(pedug1)\n",
    "print(pedug2)\n",
    "print(pedug3)"
   ]
  },
  {
   "cell_type": "code",
   "execution_count": 16,
   "metadata": {},
   "outputs": [
    {
     "data": {
      "image/png": "[encoded data removed]",
      "text/plain": [
       "<matplotlib.figure.Figure at 0x2297fae2f98>"
      ]
     },
     "metadata": {},
     "output_type": "display_data"
    }
   ],
   "source": [
    "plt.figure()\n",
    "plt.bar(list(map(lambda x: x,range(1, 9))), pedug1, color='r', width=0.1, label='Grade1')\n",
    "plt.bar(list(map(lambda x: x+0.1,range(1, 9))), pedug2, color='g', width=0.1, label='Grade2')\n",
    "plt.bar(list(map(lambda x: x+0.2,range(1, 9))), pedug3, color='b', width=0.1, label='Grade3')\n",
    "plt.xlabel(\"Parent Education\")\n",
    "plt.ylabel(\"gradel\")\n",
    "plt.legend()\n",
    "plt.ylim((0,20))\n",
    "plt.show()"
   ]
  },
  {
   "cell_type": "code",
   "execution_count": 17,
   "metadata": {},
   "outputs": [
    {
     "name": "stdout",
     "output_type": "stream",
     "text": [
      "Pedu\n",
      "1    1.000000\n",
      "2    2.487179\n",
      "3    2.348837\n",
      "4    2.347222\n",
      "5    2.191489\n",
      "6    2.250000\n",
      "7    2.224138\n",
      "8    2.285714\n",
      "Name: Walc, dtype: float64\n",
      "Pedu\n",
      "1    1.000000\n",
      "2    1.538462\n",
      "3    1.441860\n",
      "4    1.583333\n",
      "5    1.297872\n",
      "6    1.468750\n",
      "7    1.327586\n",
      "8    1.642857\n",
      "Name: Dalc, dtype: float64\n"
     ]
    }
   ],
   "source": [
    "peduDalc = data.groupby(data['Pedu'])['Walc'].mean()\n",
    "peduWalc = data.groupby(data['Pedu'])['Dalc'].mean()\n",
    "print(peduDalc)\n",
    "print(peduWalc)"
   ]
  },
  {
   "cell_type": "code",
   "execution_count": 18,
   "metadata": {
    "collapsed": true
   },
   "outputs": [],
   "source": [
    "g1absence = data.groupby(data['G1'])['absences'].mean()\n",
    "g2absence = data.groupby(data['G2'])['absences'].mean()\n",
    "g3absence = data.groupby(data['G3'])['absences'].mean()"
   ]
  },
  {
   "cell_type": "code",
   "execution_count": 19,
   "metadata": {},
   "outputs": [
    {
     "data": {
      "text/plain": [
       "Int64Index([3, 4, 5, 6, 7, 8, 9, 10, 11, 12, 13, 14, 15, 16, 17, 18, 19], dtype='int64', name='G1')"
      ]
     },
     "execution_count": 19,
     "metadata": {},
     "output_type": "execute_result"
    }
   ],
   "source": [
    "g1absence.index"
   ]
  },
  {
   "cell_type": "code",
   "execution_count": 20,
   "metadata": {
    "collapsed": true
   },
   "outputs": [],
   "source": [
    "for i in range(21):\n",
    "    if i not in g1absence.index:\n",
    "        g1absence[i]=0\n",
    "g1absence=g1absence.sort_index()\n",
    "\n",
    "for i in range(21):\n",
    "    if i not in g2absence.index:\n",
    "        g2absence[i]=0\n",
    "g2absence=g2absence.sort_index()\n",
    "\n",
    "for i in range(21):\n",
    "    if i not in g3absence.index:\n",
    "        g3absence[i]=0\n",
    "g3absence=g3absence.sort_index()"
   ]
  },
  {
   "cell_type": "code",
   "execution_count": 21,
   "metadata": {
    "scrolled": true
   },
   "outputs": [
    {
     "data": {
      "text/plain": [
       "G1\n",
       "0     0.000000\n",
       "1     0.000000\n",
       "2     0.000000\n",
       "3     8.000000\n",
       "4     0.000000\n",
       "5     4.000000\n",
       "6     6.291667\n",
       "7     4.702703\n",
       "8     5.073171\n",
       "9     8.354839\n",
       "10    6.666667\n",
       "11    6.358974\n",
       "12    6.028571\n",
       "13    5.272727\n",
       "14    4.566667\n",
       "15    4.500000\n",
       "16    4.454545\n",
       "17    5.000000\n",
       "18    8.125000\n",
       "19    2.000000\n",
       "20    0.000000\n",
       "Name: absences, dtype: float64"
      ]
     },
     "execution_count": 21,
     "metadata": {},
     "output_type": "execute_result"
    }
   ],
   "source": [
    "g1absence "
   ]
  },
  {
   "cell_type": "code",
   "execution_count": 22,
   "metadata": {},
   "outputs": [
    {
     "data": {
      "image/png": "[encoded data removed]",
      "text/plain": [
       "<matplotlib.figure.Figure at 0x2297f91ce48>"
      ]
     },
     "metadata": {},
     "output_type": "display_data"
    }
   ],
   "source": [
    "plt.figure()\n",
    "plt.bar(list(map(lambda x: x,range(0, 21))), g1absence, color='r', width=0.2, label='Grade1')\n",
    "plt.bar(list(map(lambda x: x+0.2,range(0, 21))), g2absence, color='g', width=0.2, label='Grade2')\n",
    "plt.bar(list(map(lambda x: x+0.4,range(0, 21))), g3absence.values, color='b', width=0.2, label='Grade3')\n",
    "plt.xlabel(\"Grade\")\n",
    "plt.ylabel(\"Absence\")\n",
    "plt.legend()\n",
    "plt.show()"
   ]
  }
 ],
 "metadata": {
  "anaconda-cloud": {},
  "kernelspec": {
   "display_name": "Python [conda root]",
   "language": "python",
   "name": "conda-root-py"
  },
  "language_info": {
   "codemirror_mode": {
    "name": "ipython",
    "version": 3
   },
   "file_extension": ".py",
   "mimetype": "text/x-python",
   "name": "python",
   "nbconvert_exporter": "python",
   "pygments_lexer": "ipython3",
   "version": "3.5.2"
  }
 },
 "nbformat": 4,
 "nbformat_minor": 1
}
